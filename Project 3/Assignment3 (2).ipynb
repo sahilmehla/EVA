{
  "nbformat": 4,
  "nbformat_minor": 0,
  "metadata": {
    "colab": {
      "name": "Assignment3.ipynb",
      "version": "0.3.2",
      "provenance": [],
      "collapsed_sections": []
    },
    "kernelspec": {
      "name": "python3",
      "display_name": "Python 3"
    },
    "accelerator": "GPU"
  },
  "cells": [
    {
      "cell_type": "markdown",
      "metadata": {
        "id": "aNyZv-Ec52ot",
        "colab_type": "text"
      },
      "source": [
        "- **Importing keras**"
      ]
    },
    {
      "cell_type": "code",
      "metadata": {
        "id": "3m3w1Cw49Zkt",
        "colab_type": "code",
        "colab": {}
      },
      "source": [
        "# https://keras.io/\n",
        "!pip install -q keras\n",
        "import keras"
      ],
      "execution_count": 0,
      "outputs": []
    },
    {
      "cell_type": "markdown",
      "metadata": {
        "id": "kRS90KkL9JqN",
        "colab_type": "text"
      },
      "source": [
        "- **Importing models and layers from keras**\n",
        "- **Importing mnist dataset**\n",
        "- **Importing python utilities - numpy**\n"
      ]
    },
    {
      "cell_type": "code",
      "metadata": {
        "id": "Eso6UHE080D4",
        "colab_type": "code",
        "colab": {}
      },
      "source": [
        "import numpy as np\n",
        "\n",
        "from keras.models import Sequential\n",
        "from keras.layers import Dense, Dropout, Activation, Flatten, Add\n",
        "from keras.layers import Convolution2D, MaxPooling2D\n",
        "from keras.utils import np_utils\n",
        "\n",
        "from keras.datasets import mnist"
      ],
      "execution_count": 0,
      "outputs": []
    },
    {
      "cell_type": "markdown",
      "metadata": {
        "id": "zByEi95J86RD",
        "colab_type": "text"
      },
      "source": [
        "- **Load pre-shuffled MNIST data into train and test sets**"
      ]
    },
    {
      "cell_type": "code",
      "metadata": {
        "id": "7eRM0QWN83PV",
        "colab_type": "code",
        "colab": {}
      },
      "source": [
        "(X_train, y_train), (X_test, y_test) = mnist.load_data()"
      ],
      "execution_count": 0,
      "outputs": []
    },
    {
      "cell_type": "markdown",
      "metadata": {
        "id": "pLqt13Wi-4Pj",
        "colab_type": "text"
      },
      "source": [
        "\n",
        "- **Printing a image from the training dataset**"
      ]
    },
    {
      "cell_type": "code",
      "metadata": {
        "id": "4a4Be72j8-ZC",
        "colab_type": "code",
        "outputId": "ff6b0766-5bed-48ba-f3d1-796d0b05b726",
        "colab": {
          "base_uri": "https://localhost:8080/",
          "height": 304
        }
      },
      "source": [
        "print (X_train.shape)\n",
        "from matplotlib import pyplot as plt\n",
        "%matplotlib inline\n",
        "plt.imshow(X_train[0])"
      ],
      "execution_count": 175,
      "outputs": [
        {
          "output_type": "stream",
          "text": [
            "(60000, 28, 28)\n"
          ],
          "name": "stdout"
        },
        {
          "output_type": "execute_result",
          "data": {
            "text/plain": [
              "<matplotlib.image.AxesImage at 0x7f19c5961d30>"
            ]
          },
          "metadata": {
            "tags": []
          },
          "execution_count": 175
        },
        {
          "output_type": "display_data",
          "data": {
            "image/png": "[encoded data removed]",
            "text/plain": [
              "<Figure size 432x288 with 1 Axes>"
            ]
          },
          "metadata": {
            "tags": []
          }
        }
      ]
    },
    {
      "cell_type": "markdown",
      "metadata": {
        "id": "D0jrqIYx_G0U",
        "colab_type": "text"
      },
      "source": [
        "- **Reshaping the images as 28x28 matrix**"
      ]
    },
    {
      "cell_type": "code",
      "metadata": {
        "id": "dkmprriw9AnZ",
        "colab_type": "code",
        "colab": {}
      },
      "source": [
        "X_train = X_train.reshape(X_train.shape[0], 28, 28,1)\n",
        "X_test = X_test.reshape(X_test.shape[0], 28, 28,1)"
      ],
      "execution_count": 0,
      "outputs": []
    },
    {
      "cell_type": "markdown",
      "metadata": {
        "id": "_UchoEqV_PVE",
        "colab_type": "text"
      },
      "source": [
        "- **Normalizing both the training and test images\n",
        "such that each value in the image will be b/w 0.0 and 1.0**"
      ]
    },
    {
      "cell_type": "code",
      "metadata": {
        "id": "X2m4YS4E9CRh",
        "colab_type": "code",
        "colab": {}
      },
      "source": [
        "X_train = X_train.astype('float32')\n",
        "X_test = X_test.astype('float32')\n",
        "X_train /= 255\n",
        "X_test /= 255"
      ],
      "execution_count": 0,
      "outputs": []
    },
    {
      "cell_type": "markdown",
      "metadata": {
        "id": "pKLK_sDS_e7f",
        "colab_type": "text"
      },
      "source": [
        "- **Listing the labels (from 0 to 9) for first 10 images**"
      ]
    },
    {
      "cell_type": "code",
      "metadata": {
        "id": "0Mn0vAYD9DvB",
        "colab_type": "code",
        "outputId": "24c00f0a-e511-44fe-d4d3-f3d6ad0fe0f0",
        "colab": {
          "base_uri": "https://localhost:8080/",
          "height": 35
        }
      },
      "source": [
        "y_train[:10]"
      ],
      "execution_count": 178,
      "outputs": [
        {
          "output_type": "execute_result",
          "data": {
            "text/plain": [
              "array([5, 0, 4, 1, 9, 2, 1, 3, 1, 4], dtype=uint8)"
            ]
          },
          "metadata": {
            "tags": []
          },
          "execution_count": 178
        }
      ]
    },
    {
      "cell_type": "markdown",
      "metadata": {
        "id": "Nc0b9Vus_kNQ",
        "colab_type": "text"
      },
      "source": [
        "- **Convert 1-dimensional class arrays to 10-dimensional class matrices**"
      ]
    },
    {
      "cell_type": "code",
      "metadata": {
        "id": "ZG8JiXR39FHC",
        "colab_type": "code",
        "colab": {}
      },
      "source": [
        "Y_train = np_utils.to_categorical(y_train, 10)\n",
        "Y_test = np_utils.to_categorical(y_test, 10)"
      ],
      "execution_count": 0,
      "outputs": []
    },
    {
      "cell_type": "markdown",
      "metadata": {
        "id": "NBuyGiwe_7BJ",
        "colab_type": "text"
      },
      "source": [
        "- **This is how the 10 Dimentional class matrix looks like\n",
        " The position of \"1.\" at each row is basically the label\n",
        " of the image.**"
      ]
    },
    {
      "cell_type": "code",
      "metadata": {
        "id": "fYlFRvKS9HMB",
        "colab_type": "code",
        "outputId": "5c52be55-e9fa-49b4-ed75-05d1d0e2e12b",
        "colab": {
          "base_uri": "https://localhost:8080/",
          "height": 193
        }
      },
      "source": [
        "Y_train[:10]\n"
      ],
      "execution_count": 180,
      "outputs": [
        {
          "output_type": "execute_result",
          "data": {
            "text/plain": [
              "array([[0., 0., 0., 0., 0., 1., 0., 0., 0., 0.],\n",
              "       [1., 0., 0., 0., 0., 0., 0., 0., 0., 0.],\n",
              "       [0., 0., 0., 0., 1., 0., 0., 0., 0., 0.],\n",
              "       [0., 1., 0., 0., 0., 0., 0., 0., 0., 0.],\n",
              "       [0., 0., 0., 0., 0., 0., 0., 0., 0., 1.],\n",
              "       [0., 0., 1., 0., 0., 0., 0., 0., 0., 0.],\n",
              "       [0., 1., 0., 0., 0., 0., 0., 0., 0., 0.],\n",
              "       [0., 0., 0., 1., 0., 0., 0., 0., 0., 0.],\n",
              "       [0., 1., 0., 0., 0., 0., 0., 0., 0., 0.],\n",
              "       [0., 0., 0., 0., 1., 0., 0., 0., 0., 0.]], dtype=float32)"
            ]
          },
          "metadata": {
            "tags": []
          },
          "execution_count": 180
        }
      ]
    },
    {
      "cell_type": "markdown",
      "metadata": {
        "id": "s5bMWyrxAFNs",
        "colab_type": "text"
      },
      "source": [
        "- **Creating Model (~ 20000 parameters)**"
      ]
    },
    {
      "cell_type": "code",
      "metadata": {
        "id": "osKqT73Q9JJB",
        "colab_type": "code",
        "outputId": "5dac9c25-2308-4a7d-8d34-4a26e9db4bcb",
        "colab": {
          "base_uri": "https://localhost:8080/",
          "height": 283
        }
      },
      "source": [
        "from keras.layers import Activation\n",
        "model = Sequential()\n",
        "                                                                                \n",
        "model.add(Convolution2D(32, 3, 3, activation='relu', input_shape=(28,28,1)))\n",
        "model.add(Convolution2D(32, 3, 3, activation='relu'))\n",
        "\n",
        "model.add(Convolution2D(16, 1, 1, activation='relu')) \n",
        "model.add(MaxPooling2D(pool_size=(2, 2)))                                       \n",
        "\n",
        "model.add(Convolution2D(32, 3, 3, activation='relu'))                           \n",
        "\n",
        "model.add(Convolution2D(16, 1, 1, activation='relu'))                           \n",
        "model.add(MaxPooling2D(pool_size=(2, 2)))                                           \n",
        "\n",
        "model.add(Convolution2D(16, 3, 3, activation='relu'))                               \n",
        "model.add(Convolution2D(16, 3, 3, activation='relu'))\n",
        "\n",
        "model.add(Flatten())\n",
        "model.add(Dense(10, activation='softmax'))\n"
      ],
      "execution_count": 181,
      "outputs": [
        {
          "output_type": "stream",
          "text": [
            "/usr/local/lib/python3.6/dist-packages/ipykernel_launcher.py:4: UserWarning: Update your `Conv2D` call to the Keras 2 API: `Conv2D(32, (3, 3), activation=\"relu\", input_shape=(28, 28, 1...)`\n",
            "  after removing the cwd from sys.path.\n",
            "/usr/local/lib/python3.6/dist-packages/ipykernel_launcher.py:5: UserWarning: Update your `Conv2D` call to the Keras 2 API: `Conv2D(32, (3, 3), activation=\"relu\")`\n",
            "  \"\"\"\n",
            "/usr/local/lib/python3.6/dist-packages/ipykernel_launcher.py:7: UserWarning: Update your `Conv2D` call to the Keras 2 API: `Conv2D(16, (1, 1), activation=\"relu\")`\n",
            "  import sys\n",
            "/usr/local/lib/python3.6/dist-packages/ipykernel_launcher.py:10: UserWarning: Update your `Conv2D` call to the Keras 2 API: `Conv2D(32, (3, 3), activation=\"relu\")`\n",
            "  # Remove the CWD from sys.path while we load stuff.\n",
            "/usr/local/lib/python3.6/dist-packages/ipykernel_launcher.py:12: UserWarning: Update your `Conv2D` call to the Keras 2 API: `Conv2D(16, (1, 1), activation=\"relu\")`\n",
            "  if sys.path[0] == '':\n",
            "/usr/local/lib/python3.6/dist-packages/ipykernel_launcher.py:15: UserWarning: Update your `Conv2D` call to the Keras 2 API: `Conv2D(16, (3, 3), activation=\"relu\")`\n",
            "  from ipykernel import kernelapp as app\n",
            "/usr/local/lib/python3.6/dist-packages/ipykernel_launcher.py:16: UserWarning: Update your `Conv2D` call to the Keras 2 API: `Conv2D(16, (3, 3), activation=\"relu\")`\n",
            "  app.launch_new_instance()\n"
          ],
          "name": "stderr"
        }
      ]
    },
    {
      "cell_type": "code",
      "metadata": {
        "id": "TzdAYg1k9K7Z",
        "colab_type": "code",
        "outputId": "0f36faf6-b413-4c53-e71a-f85d23de82ce",
        "colab": {
          "base_uri": "https://localhost:8080/",
          "height": 527
        }
      },
      "source": [
        "model.summary()"
      ],
      "execution_count": 182,
      "outputs": [
        {
          "output_type": "stream",
          "text": [
            "_________________________________________________________________\n",
            "Layer (type)                 Output Shape              Param #   \n",
            "=================================================================\n",
            "conv2d_72 (Conv2D)           (None, 26, 26, 32)        320       \n",
            "_________________________________________________________________\n",
            "conv2d_73 (Conv2D)           (None, 24, 24, 32)        9248      \n",
            "_________________________________________________________________\n",
            "conv2d_74 (Conv2D)           (None, 24, 24, 16)        528       \n",
            "_________________________________________________________________\n",
            "max_pooling2d_23 (MaxPooling (None, 12, 12, 16)        0         \n",
            "_________________________________________________________________\n",
            "conv2d_75 (Conv2D)           (None, 10, 10, 32)        4640      \n",
            "_________________________________________________________________\n",
            "conv2d_76 (Conv2D)           (None, 10, 10, 16)        528       \n",
            "_________________________________________________________________\n",
            "max_pooling2d_24 (MaxPooling (None, 5, 5, 16)          0         \n",
            "_________________________________________________________________\n",
            "conv2d_77 (Conv2D)           (None, 3, 3, 16)          2320      \n",
            "_________________________________________________________________\n",
            "conv2d_78 (Conv2D)           (None, 1, 1, 16)          2320      \n",
            "_________________________________________________________________\n",
            "flatten_12 (Flatten)         (None, 16)                0         \n",
            "_________________________________________________________________\n",
            "dense_13 (Dense)             (None, 10)                170       \n",
            "=================================================================\n",
            "Total params: 20,074\n",
            "Trainable params: 20,074\n",
            "Non-trainable params: 0\n",
            "_________________________________________________________________\n"
          ],
          "name": "stdout"
        }
      ]
    },
    {
      "cell_type": "markdown",
      "metadata": {
        "id": "AsXLiI6BAacS",
        "colab_type": "text"
      },
      "source": [
        "- **Using stochastic gradient descent**"
      ]
    },
    {
      "cell_type": "code",
      "metadata": {
        "id": "Zp6SuGrL9M3h",
        "colab_type": "code",
        "colab": {}
      },
      "source": [
        "model.compile(loss='categorical_crossentropy',\n",
        "             optimizer='SGD',\n",
        "             metrics=['accuracy'])"
      ],
      "execution_count": 0,
      "outputs": []
    },
    {
      "cell_type": "markdown",
      "metadata": {
        "id": "HWJWlRu1ASZ_",
        "colab_type": "text"
      },
      "source": [
        "\n",
        "- **Training the model with batch size of 32 images and epoch = 30**"
      ]
    },
    {
      "cell_type": "code",
      "metadata": {
        "id": "4xWoKhPY9Of5",
        "colab_type": "code",
        "outputId": "c49c4c7a-960a-4c42-cccf-ca1a3e045609",
        "colab": {
          "base_uri": "https://localhost:8080/",
          "height": 1126
        }
      },
      "source": [
        "model.fit(X_train, Y_train, batch_size=32, nb_epoch=30, verbose=1)"
      ],
      "execution_count": 184,
      "outputs": [
        {
          "output_type": "stream",
          "text": [
            "/usr/local/lib/python3.6/dist-packages/ipykernel_launcher.py:1: UserWarning: The `nb_epoch` argument in `fit` has been renamed `epochs`.\n",
            "  \"\"\"Entry point for launching an IPython kernel.\n"
          ],
          "name": "stderr"
        },
        {
          "output_type": "stream",
          "text": [
            "Epoch 1/30\n",
            "60000/60000 [==============================] - 10s 161us/step - loss: 0.8447 - acc: 0.7159\n",
            "Epoch 2/30\n",
            "60000/60000 [==============================] - 10s 159us/step - loss: 0.1881 - acc: 0.9424\n",
            "Epoch 3/30\n",
            "60000/60000 [==============================] - 9s 142us/step - loss: 0.1271 - acc: 0.9615\n",
            "Epoch 4/30\n",
            "60000/60000 [==============================] - 9s 156us/step - loss: 0.1006 - acc: 0.9691\n",
            "Epoch 5/30\n",
            "60000/60000 [==============================] - 9s 142us/step - loss: 0.0843 - acc: 0.9743\n",
            "Epoch 6/30\n",
            "60000/60000 [==============================] - 9s 142us/step - loss: 0.0750 - acc: 0.9770\n",
            "Epoch 7/30\n",
            "60000/60000 [==============================] - 9s 143us/step - loss: 0.0675 - acc: 0.9791\n",
            "Epoch 8/30\n",
            "60000/60000 [==============================] - 9s 143us/step - loss: 0.0625 - acc: 0.9808\n",
            "Epoch 9/30\n",
            "60000/60000 [==============================] - 9s 142us/step - loss: 0.0581 - acc: 0.9820\n",
            "Epoch 10/30\n",
            "60000/60000 [==============================] - 9s 144us/step - loss: 0.0553 - acc: 0.9825\n",
            "Epoch 11/30\n",
            "60000/60000 [==============================] - 10s 163us/step - loss: 0.0521 - acc: 0.9840\n",
            "Epoch 12/30\n",
            "60000/60000 [==============================] - 9s 143us/step - loss: 0.0479 - acc: 0.9856\n",
            "Epoch 13/30\n",
            "60000/60000 [==============================] - 9s 143us/step - loss: 0.0465 - acc: 0.9859\n",
            "Epoch 14/30\n",
            "60000/60000 [==============================] - 9s 143us/step - loss: 0.0445 - acc: 0.9863\n",
            "Epoch 15/30\n",
            "60000/60000 [==============================] - 9s 142us/step - loss: 0.0426 - acc: 0.9868\n",
            "Epoch 16/30\n",
            "60000/60000 [==============================] - 9s 144us/step - loss: 0.0407 - acc: 0.9874\n",
            "Epoch 17/30\n",
            "60000/60000 [==============================] - 9s 145us/step - loss: 0.0391 - acc: 0.9879\n",
            "Epoch 18/30\n",
            "60000/60000 [==============================] - 9s 143us/step - loss: 0.0378 - acc: 0.9881\n",
            "Epoch 19/30\n",
            "60000/60000 [==============================] - 9s 143us/step - loss: 0.0356 - acc: 0.9889\n",
            "Epoch 20/30\n",
            "60000/60000 [==============================] - 10s 159us/step - loss: 0.0353 - acc: 0.9890\n",
            "Epoch 21/30\n",
            "60000/60000 [==============================] - 9s 146us/step - loss: 0.0330 - acc: 0.9898\n",
            "Epoch 22/30\n",
            "60000/60000 [==============================] - 9s 143us/step - loss: 0.0316 - acc: 0.9903\n",
            "Epoch 23/30\n",
            "60000/60000 [==============================] - 9s 142us/step - loss: 0.0311 - acc: 0.9902\n",
            "Epoch 24/30\n",
            "60000/60000 [==============================] - 9s 143us/step - loss: 0.0298 - acc: 0.9908\n",
            "Epoch 25/30\n",
            "60000/60000 [==============================] - 9s 143us/step - loss: 0.0291 - acc: 0.9907\n",
            "Epoch 26/30\n",
            "60000/60000 [==============================] - 10s 168us/step - loss: 0.0280 - acc: 0.9907\n",
            "Epoch 27/30\n",
            "60000/60000 [==============================] - 9s 146us/step - loss: 0.0271 - acc: 0.9910\n",
            "Epoch 28/30\n",
            "60000/60000 [==============================] - 9s 143us/step - loss: 0.0267 - acc: 0.9914\n",
            "Epoch 29/30\n",
            "60000/60000 [==============================] - 9s 158us/step - loss: 0.0248 - acc: 0.9921\n",
            "Epoch 30/30\n",
            "60000/60000 [==============================] - 9s 148us/step - loss: 0.0246 - acc: 0.9919\n"
          ],
          "name": "stdout"
        },
        {
          "output_type": "execute_result",
          "data": {
            "text/plain": [
              "<keras.callbacks.History at 0x7f19c596c4e0>"
            ]
          },
          "metadata": {
            "tags": []
          },
          "execution_count": 184
        }
      ]
    },
    {
      "cell_type": "markdown",
      "metadata": {
        "id": "m7FXWBxTA8sN",
        "colab_type": "text"
      },
      "source": [
        "- **Showing the average loss and accuracy on test data set. After testing the\n",
        "Accuracy of the model on test set is 98.8%**"
      ]
    },
    {
      "cell_type": "code",
      "metadata": {
        "id": "AtsH-lLk-eLb",
        "colab_type": "code",
        "colab": {}
      },
      "source": [
        "score = model.evaluate(X_test, Y_test, verbose=0)"
      ],
      "execution_count": 0,
      "outputs": []
    },
    {
      "cell_type": "code",
      "metadata": {
        "id": "mkX8JMv79q9r",
        "colab_type": "code",
        "outputId": "852b6bc0-f9dd-4c73-bbf4-09b710375f14",
        "colab": {
          "base_uri": "https://localhost:8080/",
          "height": 35
        }
      },
      "source": [
        "print(score)"
      ],
      "execution_count": 186,
      "outputs": [
        {
          "output_type": "stream",
          "text": [
            "[0.03709949178028619, 0.9881]\n"
          ],
          "name": "stdout"
        }
      ]
    },
    {
      "cell_type": "markdown",
      "metadata": {
        "id": "BgdkBzSlBh-S",
        "colab_type": "text"
      },
      "source": [
        "- **Getting the prediction on first 9 images of test set from the trained model**"
      ]
    },
    {
      "cell_type": "code",
      "metadata": {
        "id": "OCWoJkwE9suh",
        "colab_type": "code",
        "colab": {}
      },
      "source": [
        "y_pred = model.predict(X_test)"
      ],
      "execution_count": 0,
      "outputs": []
    },
    {
      "cell_type": "code",
      "metadata": {
        "id": "Ym7iCFBm9uBs",
        "colab_type": "code",
        "outputId": "d63f4338-9abe-44b6-9a82-521135f3d20e",
        "colab": {
          "base_uri": "https://localhost:8080/",
          "height": 351
        }
      },
      "source": [
        "print(y_pred[:9])\n",
        "print(y_test[:9])"
      ],
      "execution_count": 188,
      "outputs": [
        {
          "output_type": "stream",
          "text": [
            "[[1.8064804e-09 1.6800200e-09 1.3420258e-07 5.1039137e-06 1.3042144e-10\n",
            "  1.3239326e-09 2.3948790e-12 9.9999058e-01 1.0597160e-07 4.0756613e-06]\n",
            " [5.5236655e-09 9.5207203e-11 9.9999905e-01 3.0783479e-10 4.3682499e-11\n",
            "  1.4208279e-14 9.5741871e-07 1.3837565e-14 3.8815027e-09 1.0263913e-16]\n",
            " [3.6320262e-07 9.9929762e-01 4.6738634e-05 2.9325530e-08 7.2742259e-05\n",
            "  3.3003462e-07 2.4000974e-06 5.7023158e-04 7.6396072e-06 1.9486636e-06]\n",
            " [9.9999857e-01 4.1987139e-12 5.9963980e-08 6.1751044e-09 8.6201539e-11\n",
            "  6.7885260e-08 6.4882079e-07 9.0580554e-10 3.3611471e-08 5.5149678e-07]\n",
            " [1.1117755e-08 3.7023165e-09 7.2184952e-10 5.0161436e-10 9.9991560e-01\n",
            "  1.3776083e-10 1.3042225e-08 1.2171726e-06 1.5836854e-07 8.3080384e-05]\n",
            " [3.3253045e-09 9.9983323e-01 2.2579671e-07 4.7070080e-11 6.7319193e-06\n",
            "  5.8645760e-10 6.8891728e-09 1.5963930e-04 4.6968992e-08 4.9209937e-08]\n",
            " [5.6274146e-10 4.2847146e-06 2.8666825e-08 3.1858511e-12 9.9972516e-01\n",
            "  3.3326163e-08 3.3655728e-11 1.5567783e-05 1.0984606e-06 2.5383188e-04]\n",
            " [7.3011250e-12 2.0278326e-06 1.0346044e-05 2.6899270e-05 2.3387212e-05\n",
            "  1.5098840e-07 1.3497644e-11 8.3729226e-08 7.6827921e-05 9.9986017e-01]\n",
            " [1.6170878e-08 7.8850110e-13 4.7077471e-08 5.8514082e-10 6.6727170e-16\n",
            "  9.9710709e-01 2.8709068e-03 1.8220314e-09 1.8178471e-05 3.7164216e-06]]\n",
            "[7 2 1 0 4 1 4 9 5]\n"
          ],
          "name": "stdout"
        }
      ]
    }
  ]
}