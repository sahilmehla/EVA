{
  "nbformat": 4,
  "nbformat_minor": 0,
  "metadata": {
    "colab": {
      "name": "Fourth_DNN.ipynb",
      "version": "0.3.2",
      "provenance": [],
      "collapsed_sections": []
    },
    "kernelspec": {
      "name": "python3",
      "display_name": "Python 3"
    },
    "accelerator": "GPU"
  },
  "cells": [
    {
      "cell_type": "markdown",
      "metadata": {
        "id": "aNyZv-Ec52ot",
        "colab_type": "text"
      },
      "source": [
        "- **Importing keras**"
      ]
    },
    {
      "cell_type": "code",
      "metadata": {
        "id": "3m3w1Cw49Zkt",
        "colab_type": "code",
        "colab": {
          "base_uri": "https://localhost:8080/",
          "height": 34
        },
        "outputId": "e630f24b-44b5-4125-9849-2c54f82e73c4"
      },
      "source": [
        "# https://keras.io/\n",
        "!pip install -q keras\n",
        "import keras"
      ],
      "execution_count": 1,
      "outputs": [
        {
          "output_type": "stream",
          "text": [
            "Using TensorFlow backend.\n"
          ],
          "name": "stderr"
        }
      ]
    },
    {
      "cell_type": "markdown",
      "metadata": {
        "id": "kRS90KkL9JqN",
        "colab_type": "text"
      },
      "source": [
        "- **Importing models and layers from keras**\n",
        "- **Importing mnist dataset**\n",
        "- **Importing python utilities - numpy**\n"
      ]
    },
    {
      "cell_type": "code",
      "metadata": {
        "id": "Eso6UHE080D4",
        "colab_type": "code",
        "colab": {}
      },
      "source": [
        "import numpy as np\n",
        "\n",
        "from keras.models import Sequential\n",
        "from keras.layers import Dense, Dropout, Activation, Flatten, Add, BatchNormalization\n",
        "from keras.layers import Convolution2D, MaxPooling2D\n",
        "from keras.utils import np_utils\n",
        "\n",
        "from keras.datasets import mnist"
      ],
      "execution_count": 0,
      "outputs": []
    },
    {
      "cell_type": "markdown",
      "metadata": {
        "id": "zByEi95J86RD",
        "colab_type": "text"
      },
      "source": [
        "- **Load pre-shuffled MNIST data into train and test sets**"
      ]
    },
    {
      "cell_type": "code",
      "metadata": {
        "id": "7eRM0QWN83PV",
        "colab_type": "code",
        "colab": {}
      },
      "source": [
        "(X_train, y_train), (X_test, y_test) = mnist.load_data()"
      ],
      "execution_count": 0,
      "outputs": []
    },
    {
      "cell_type": "markdown",
      "metadata": {
        "id": "pLqt13Wi-4Pj",
        "colab_type": "text"
      },
      "source": [
        "\n",
        "- **Printing a image from the training dataset**"
      ]
    },
    {
      "cell_type": "code",
      "metadata": {
        "id": "4a4Be72j8-ZC",
        "colab_type": "code",
        "outputId": "3f338442-ff20-47d1-ee22-9f63bb8a4421",
        "colab": {
          "base_uri": "https://localhost:8080/",
          "height": 304
        }
      },
      "source": [
        "print (X_train.shape)\n",
        "from matplotlib import pyplot as plt\n",
        "%matplotlib inline\n",
        "plt.imshow(X_train[0])"
      ],
      "execution_count": 4,
      "outputs": [
        {
          "output_type": "stream",
          "text": [
            "(60000, 28, 28)\n"
          ],
          "name": "stdout"
        },
        {
          "output_type": "execute_result",
          "data": {
            "text/plain": [
              "<matplotlib.image.AxesImage at 0x7fef84b022e8>"
            ]
          },
          "metadata": {
            "tags": []
          },
          "execution_count": 4
        },
        {
          "output_type": "display_data",
          "data": {
            "image/png": "[encoded data removed]",
            "text/plain": [
              "<Figure size 432x288 with 1 Axes>"
            ]
          },
          "metadata": {
            "tags": []
          }
        }
      ]
    },
    {
      "cell_type": "markdown",
      "metadata": {
        "id": "D0jrqIYx_G0U",
        "colab_type": "text"
      },
      "source": [
        "- **Reshaping the images as 28x28 matrix**"
      ]
    },
    {
      "cell_type": "code",
      "metadata": {
        "id": "dkmprriw9AnZ",
        "colab_type": "code",
        "colab": {}
      },
      "source": [
        "X_train = X_train.reshape(X_train.shape[0], 28, 28,1)\n",
        "X_test = X_test.reshape(X_test.shape[0], 28, 28,1)"
      ],
      "execution_count": 0,
      "outputs": []
    },
    {
      "cell_type": "markdown",
      "metadata": {
        "id": "_UchoEqV_PVE",
        "colab_type": "text"
      },
      "source": [
        "- **Normalizing both the training and test images\n",
        "such that each value in the image will be b/w 0.0 and 1.0**"
      ]
    },
    {
      "cell_type": "code",
      "metadata": {
        "id": "X2m4YS4E9CRh",
        "colab_type": "code",
        "colab": {}
      },
      "source": [
        "X_train = X_train.astype('float32')\n",
        "X_test = X_test.astype('float32')\n",
        "X_train /= 255\n",
        "X_test /= 255"
      ],
      "execution_count": 0,
      "outputs": []
    },
    {
      "cell_type": "markdown",
      "metadata": {
        "id": "pKLK_sDS_e7f",
        "colab_type": "text"
      },
      "source": [
        "- **Listing the labels (from 0 to 9) for first 10 images**"
      ]
    },
    {
      "cell_type": "code",
      "metadata": {
        "id": "0Mn0vAYD9DvB",
        "colab_type": "code",
        "outputId": "5d90ee0e-f6e5-4d01-9417-a7daba57b344",
        "colab": {
          "base_uri": "https://localhost:8080/",
          "height": 34
        }
      },
      "source": [
        "y_train[:10]"
      ],
      "execution_count": 7,
      "outputs": [
        {
          "output_type": "execute_result",
          "data": {
            "text/plain": [
              "array([5, 0, 4, 1, 9, 2, 1, 3, 1, 4], dtype=uint8)"
            ]
          },
          "metadata": {
            "tags": []
          },
          "execution_count": 7
        }
      ]
    },
    {
      "cell_type": "markdown",
      "metadata": {
        "id": "Nc0b9Vus_kNQ",
        "colab_type": "text"
      },
      "source": [
        "- **Convert 1-dimensional class arrays to 10-dimensional class matrices**"
      ]
    },
    {
      "cell_type": "code",
      "metadata": {
        "id": "ZG8JiXR39FHC",
        "colab_type": "code",
        "colab": {}
      },
      "source": [
        "Y_train = np_utils.to_categorical(y_train, 10)\n",
        "Y_test = np_utils.to_categorical(y_test, 10)"
      ],
      "execution_count": 0,
      "outputs": []
    },
    {
      "cell_type": "markdown",
      "metadata": {
        "id": "NBuyGiwe_7BJ",
        "colab_type": "text"
      },
      "source": [
        "- **This is how the 10 Dimentional class matrix looks like\n",
        " The position of \"1.\" at each row is basically the label\n",
        " of the image.**"
      ]
    },
    {
      "cell_type": "code",
      "metadata": {
        "id": "fYlFRvKS9HMB",
        "colab_type": "code",
        "outputId": "ef0fae07-32ca-48c1-8005-39d6045c8932",
        "colab": {
          "base_uri": "https://localhost:8080/",
          "height": 193
        }
      },
      "source": [
        "Y_train[:10]\n"
      ],
      "execution_count": 9,
      "outputs": [
        {
          "output_type": "execute_result",
          "data": {
            "text/plain": [
              "array([[0., 0., 0., 0., 0., 1., 0., 0., 0., 0.],\n",
              "       [1., 0., 0., 0., 0., 0., 0., 0., 0., 0.],\n",
              "       [0., 0., 0., 0., 1., 0., 0., 0., 0., 0.],\n",
              "       [0., 1., 0., 0., 0., 0., 0., 0., 0., 0.],\n",
              "       [0., 0., 0., 0., 0., 0., 0., 0., 0., 1.],\n",
              "       [0., 0., 1., 0., 0., 0., 0., 0., 0., 0.],\n",
              "       [0., 1., 0., 0., 0., 0., 0., 0., 0., 0.],\n",
              "       [0., 0., 0., 1., 0., 0., 0., 0., 0., 0.],\n",
              "       [0., 1., 0., 0., 0., 0., 0., 0., 0., 0.],\n",
              "       [0., 0., 0., 0., 1., 0., 0., 0., 0., 0.]], dtype=float32)"
            ]
          },
          "metadata": {
            "tags": []
          },
          "execution_count": 9
        }
      ]
    },
    {
      "cell_type": "markdown",
      "metadata": {
        "id": "s5bMWyrxAFNs",
        "colab_type": "text"
      },
      "source": [
        "## Fourth and final Network\n",
        "              \n",
        "          \n",
        "| Observation | Value |\n",
        "| :------------------- | ---------------: |\n",
        "| Total Parameters | 13,230  |\n",
        "| Best Testing Accuracy | 99.25 |\n",
        "| Best Validation Accuracy | 99.39 |\n",
        "| Batch Size | 128 |\n",
        "| Epochs | 20 |\n",
        "| Optimizer | Adam |\n",
        "| 3 Improvements over previous layer | Reducing learning rate with epochs |\n",
        "| | Increased the batch size to 128 |            \n",
        "              \n",
        "\n",
        "\n",
        "\n",
        "\n",
        "\n",
        "                    "
      ]
    },
    {
      "cell_type": "code",
      "metadata": {
        "id": "osKqT73Q9JJB",
        "colab_type": "code",
        "outputId": "369cec56-259c-4455-db51-c3d77c1e60fc",
        "colab": {
          "base_uri": "https://localhost:8080/",
          "height": 316
        }
      },
      "source": [
        "from keras.layers import Activation\n",
        "model = Sequential()\n",
        "\n",
        "                                                     # Output channel dimensions | Receptive field\n",
        "model.add(Convolution2D(16, 3, 3, activation='relu', input_shape=(28,28,1))) # 26 | 3x3\n",
        "model.add(BatchNormalization())\n",
        "model.add(Dropout(0.1))\n",
        "\n",
        "model.add(Convolution2D(16, 3, 3, activation='relu')) # 24 | 5x5\n",
        "model.add(BatchNormalization())\n",
        "model.add(Dropout(0.1))\n",
        "\n",
        "model.add(MaxPooling2D(pool_size=(2, 2))) # 12 | 10x10\n",
        "model.add(Convolution2D(10, 1, 1, activation='relu')) # 12\n",
        "\n",
        "model.add(Convolution2D(16, 3, 3, activation='relu')) #  10 | 12x12\n",
        "model.add(BatchNormalization())\n",
        "model.add(Dropout(0.1))\n",
        "model.add(Convolution2D(16, 3, 3, activation='relu')) #   8 | 14x14\n",
        "model.add(BatchNormalization())\n",
        "model.add(Dropout(0.1))\n",
        "model.add(Convolution2D(16, 3, 3, activation='relu')) #   6 | 16x16\n",
        "model.add(BatchNormalization())\n",
        "model.add(Dropout(0.1))\n",
        "model.add(Convolution2D(16, 3, 3, activation='relu')) #   4 | 18x18\n",
        "model.add(BatchNormalization())\n",
        "model.add(Dropout(0.1))\n",
        "\n",
        "model.add(Convolution2D(10, 1, activation='relu')) #4\n",
        "model.add(Convolution2D(10, 4))\n",
        "model.add(Flatten())\n",
        "model.add(Activation('softmax'))"
      ],
      "execution_count": 10,
      "outputs": [
        {
          "output_type": "stream",
          "text": [
            "WARNING:tensorflow:From /usr/local/lib/python3.6/dist-packages/tensorflow/python/framework/op_def_library.py:263: colocate_with (from tensorflow.python.framework.ops) is deprecated and will be removed in a future version.\n",
            "Instructions for updating:\n",
            "Colocations handled automatically by placer.\n"
          ],
          "name": "stdout"
        },
        {
          "output_type": "stream",
          "text": [
            "/usr/local/lib/python3.6/dist-packages/ipykernel_launcher.py:5: UserWarning: Update your `Conv2D` call to the Keras 2 API: `Conv2D(16, (3, 3), activation=\"relu\", input_shape=(28, 28, 1...)`\n",
            "  \"\"\"\n"
          ],
          "name": "stderr"
        },
        {
          "output_type": "stream",
          "text": [
            "WARNING:tensorflow:From /usr/local/lib/python3.6/dist-packages/keras/backend/tensorflow_backend.py:3445: calling dropout (from tensorflow.python.ops.nn_ops) with keep_prob is deprecated and will be removed in a future version.\n",
            "Instructions for updating:\n",
            "Please use `rate` instead of `keep_prob`. Rate should be set to `rate = 1 - keep_prob`.\n"
          ],
          "name": "stdout"
        },
        {
          "output_type": "stream",
          "text": [
            "/usr/local/lib/python3.6/dist-packages/ipykernel_launcher.py:9: UserWarning: Update your `Conv2D` call to the Keras 2 API: `Conv2D(16, (3, 3), activation=\"relu\")`\n",
            "  if __name__ == '__main__':\n",
            "/usr/local/lib/python3.6/dist-packages/ipykernel_launcher.py:14: UserWarning: Update your `Conv2D` call to the Keras 2 API: `Conv2D(10, (1, 1), activation=\"relu\")`\n",
            "  \n",
            "/usr/local/lib/python3.6/dist-packages/ipykernel_launcher.py:16: UserWarning: Update your `Conv2D` call to the Keras 2 API: `Conv2D(16, (3, 3), activation=\"relu\")`\n",
            "  app.launch_new_instance()\n",
            "/usr/local/lib/python3.6/dist-packages/ipykernel_launcher.py:19: UserWarning: Update your `Conv2D` call to the Keras 2 API: `Conv2D(16, (3, 3), activation=\"relu\")`\n",
            "/usr/local/lib/python3.6/dist-packages/ipykernel_launcher.py:22: UserWarning: Update your `Conv2D` call to the Keras 2 API: `Conv2D(16, (3, 3), activation=\"relu\")`\n",
            "/usr/local/lib/python3.6/dist-packages/ipykernel_launcher.py:25: UserWarning: Update your `Conv2D` call to the Keras 2 API: `Conv2D(16, (3, 3), activation=\"relu\")`\n"
          ],
          "name": "stderr"
        }
      ]
    },
    {
      "cell_type": "code",
      "metadata": {
        "id": "TzdAYg1k9K7Z",
        "colab_type": "code",
        "outputId": "5a483e8c-1e53-4a8d-90f9-94116c10d2ad",
        "colab": {
          "base_uri": "https://localhost:8080/",
          "height": 985
        }
      },
      "source": [
        "model.summary()"
      ],
      "execution_count": 11,
      "outputs": [
        {
          "output_type": "stream",
          "text": [
            "_________________________________________________________________\n",
            "Layer (type)                 Output Shape              Param #   \n",
            "=================================================================\n",
            "conv2d_1 (Conv2D)            (None, 26, 26, 16)        160       \n",
            "_________________________________________________________________\n",
            "batch_normalization_1 (Batch (None, 26, 26, 16)        64        \n",
            "_________________________________________________________________\n",
            "dropout_1 (Dropout)          (None, 26, 26, 16)        0         \n",
            "_________________________________________________________________\n",
            "conv2d_2 (Conv2D)            (None, 24, 24, 16)        2320      \n",
            "_________________________________________________________________\n",
            "batch_normalization_2 (Batch (None, 24, 24, 16)        64        \n",
            "_________________________________________________________________\n",
            "dropout_2 (Dropout)          (None, 24, 24, 16)        0         \n",
            "_________________________________________________________________\n",
            "max_pooling2d_1 (MaxPooling2 (None, 12, 12, 16)        0         \n",
            "_________________________________________________________________\n",
            "conv2d_3 (Conv2D)            (None, 12, 12, 10)        170       \n",
            "_________________________________________________________________\n",
            "conv2d_4 (Conv2D)            (None, 10, 10, 16)        1456      \n",
            "_________________________________________________________________\n",
            "batch_normalization_3 (Batch (None, 10, 10, 16)        64        \n",
            "_________________________________________________________________\n",
            "dropout_3 (Dropout)          (None, 10, 10, 16)        0         \n",
            "_________________________________________________________________\n",
            "conv2d_5 (Conv2D)            (None, 8, 8, 16)          2320      \n",
            "_________________________________________________________________\n",
            "batch_normalization_4 (Batch (None, 8, 8, 16)          64        \n",
            "_________________________________________________________________\n",
            "dropout_4 (Dropout)          (None, 8, 8, 16)          0         \n",
            "_________________________________________________________________\n",
            "conv2d_6 (Conv2D)            (None, 6, 6, 16)          2320      \n",
            "_________________________________________________________________\n",
            "batch_normalization_5 (Batch (None, 6, 6, 16)          64        \n",
            "_________________________________________________________________\n",
            "dropout_5 (Dropout)          (None, 6, 6, 16)          0         \n",
            "_________________________________________________________________\n",
            "conv2d_7 (Conv2D)            (None, 4, 4, 16)          2320      \n",
            "_________________________________________________________________\n",
            "batch_normalization_6 (Batch (None, 4, 4, 16)          64        \n",
            "_________________________________________________________________\n",
            "dropout_6 (Dropout)          (None, 4, 4, 16)          0         \n",
            "_________________________________________________________________\n",
            "conv2d_8 (Conv2D)            (None, 4, 4, 10)          170       \n",
            "_________________________________________________________________\n",
            "conv2d_9 (Conv2D)            (None, 1, 1, 10)          1610      \n",
            "_________________________________________________________________\n",
            "flatten_1 (Flatten)          (None, 10)                0         \n",
            "_________________________________________________________________\n",
            "activation_1 (Activation)    (None, 10)                0         \n",
            "=================================================================\n",
            "Total params: 13,230\n",
            "Trainable params: 13,038\n",
            "Non-trainable params: 192\n",
            "_________________________________________________________________\n"
          ],
          "name": "stdout"
        }
      ]
    },
    {
      "cell_type": "markdown",
      "metadata": {
        "id": "AsXLiI6BAacS",
        "colab_type": "text"
      },
      "source": [
        "- **Using stochastic gradient descent**"
      ]
    },
    {
      "cell_type": "code",
      "metadata": {
        "id": "Zp6SuGrL9M3h",
        "colab_type": "code",
        "colab": {}
      },
      "source": [
        "from keras.optimizers import Adam\n",
        "from keras.callbacks import LearningRateScheduler\n",
        "def scheduler(epoch, lr):\n",
        "  return round(0.003 * 1/(1 + 0.319 * epoch), 10)\n",
        "\n",
        "model.compile(loss='categorical_crossentropy', optimizer=Adam(lr=0.003), metrics=['accuracy'])"
      ],
      "execution_count": 0,
      "outputs": []
    },
    {
      "cell_type": "markdown",
      "metadata": {
        "id": "HWJWlRu1ASZ_",
        "colab_type": "text"
      },
      "source": [
        "\n",
        "- **Training the model with batch size of 128 images and epoch = 20**"
      ]
    },
    {
      "cell_type": "code",
      "metadata": {
        "id": "4xWoKhPY9Of5",
        "colab_type": "code",
        "outputId": "e5661a7b-6c20-4abf-d0b5-f983f9035f74",
        "colab": {
          "base_uri": "https://localhost:8080/",
          "height": 809
        }
      },
      "source": [
        "model.fit(X_train, Y_train, batch_size=128, \n",
        "          epochs=20, verbose=1, \n",
        "          validation_data=(X_test, Y_test), )"
      ],
      "execution_count": 13,
      "outputs": [
        {
          "output_type": "stream",
          "text": [
            "WARNING:tensorflow:From /usr/local/lib/python3.6/dist-packages/tensorflow/python/ops/math_ops.py:3066: to_int32 (from tensorflow.python.ops.math_ops) is deprecated and will be removed in a future version.\n",
            "Instructions for updating:\n",
            "Use tf.cast instead.\n",
            "Train on 60000 samples, validate on 10000 samples\n",
            "Epoch 1/20\n",
            "60000/60000 [==============================] - 9s 144us/step - loss: 0.2650 - acc: 0.9140 - val_loss: 0.0773 - val_acc: 0.9762\n",
            "Epoch 2/20\n",
            "60000/60000 [==============================] - 6s 100us/step - loss: 0.0735 - acc: 0.9775 - val_loss: 0.0666 - val_acc: 0.9802\n",
            "Epoch 3/20\n",
            "60000/60000 [==============================] - 6s 99us/step - loss: 0.0568 - acc: 0.9825 - val_loss: 0.0441 - val_acc: 0.9863\n",
            "Epoch 4/20\n",
            "60000/60000 [==============================] - 6s 99us/step - loss: 0.0496 - acc: 0.9848 - val_loss: 0.0449 - val_acc: 0.9882\n",
            "Epoch 5/20\n",
            "60000/60000 [==============================] - 6s 100us/step - loss: 0.0439 - acc: 0.9861 - val_loss: 0.0369 - val_acc: 0.9887\n",
            "Epoch 6/20\n",
            "60000/60000 [==============================] - 6s 99us/step - loss: 0.0412 - acc: 0.9868 - val_loss: 0.0330 - val_acc: 0.9907\n",
            "Epoch 7/20\n",
            "60000/60000 [==============================] - 6s 100us/step - loss: 0.0387 - acc: 0.9877 - val_loss: 0.0278 - val_acc: 0.9911\n",
            "Epoch 8/20\n",
            "60000/60000 [==============================] - 6s 99us/step - loss: 0.0358 - acc: 0.9890 - val_loss: 0.0343 - val_acc: 0.9899\n",
            "Epoch 9/20\n",
            "60000/60000 [==============================] - 6s 100us/step - loss: 0.0338 - acc: 0.9889 - val_loss: 0.0360 - val_acc: 0.9895\n",
            "Epoch 10/20\n",
            "60000/60000 [==============================] - 7s 110us/step - loss: 0.0342 - acc: 0.9890 - val_loss: 0.0280 - val_acc: 0.9914\n",
            "Epoch 11/20\n",
            "60000/60000 [==============================] - 7s 113us/step - loss: 0.0308 - acc: 0.9898 - val_loss: 0.0321 - val_acc: 0.9899\n",
            "Epoch 12/20\n",
            "60000/60000 [==============================] - 6s 103us/step - loss: 0.0302 - acc: 0.9904 - val_loss: 0.0307 - val_acc: 0.9913\n",
            "Epoch 13/20\n",
            "60000/60000 [==============================] - 6s 99us/step - loss: 0.0283 - acc: 0.9909 - val_loss: 0.0244 - val_acc: 0.9920\n",
            "Epoch 14/20\n",
            "60000/60000 [==============================] - 6s 100us/step - loss: 0.0278 - acc: 0.9909 - val_loss: 0.0320 - val_acc: 0.9896\n",
            "Epoch 15/20\n",
            "60000/60000 [==============================] - 6s 100us/step - loss: 0.0280 - acc: 0.9913 - val_loss: 0.0288 - val_acc: 0.9923\n",
            "Epoch 16/20\n",
            "60000/60000 [==============================] - 6s 100us/step - loss: 0.0259 - acc: 0.9917 - val_loss: 0.0265 - val_acc: 0.9921\n",
            "Epoch 17/20\n",
            "60000/60000 [==============================] - 6s 100us/step - loss: 0.0253 - acc: 0.9916 - val_loss: 0.0239 - val_acc: 0.9935\n",
            "Epoch 18/20\n",
            "60000/60000 [==============================] - 6s 100us/step - loss: 0.0245 - acc: 0.9915 - val_loss: 0.0261 - val_acc: 0.9912\n",
            "Epoch 19/20\n",
            "60000/60000 [==============================] - 6s 100us/step - loss: 0.0238 - acc: 0.9925 - val_loss: 0.0235 - val_acc: 0.9936\n",
            "Epoch 20/20\n",
            "60000/60000 [==============================] - 6s 100us/step - loss: 0.0243 - acc: 0.9923 - val_loss: 0.0238 - val_acc: 0.9939\n"
          ],
          "name": "stdout"
        },
        {
          "output_type": "execute_result",
          "data": {
            "text/plain": [
              "<keras.callbacks.History at 0x7fef84ae4630>"
            ]
          },
          "metadata": {
            "tags": []
          },
          "execution_count": 13
        }
      ]
    },
    {
      "cell_type": "code",
      "metadata": {
        "id": "AtsH-lLk-eLb",
        "colab_type": "code",
        "colab": {}
      },
      "source": [
        "score = model.evaluate(X_test, Y_test, verbose=0)"
      ],
      "execution_count": 0,
      "outputs": []
    },
    {
      "cell_type": "code",
      "metadata": {
        "id": "mkX8JMv79q9r",
        "colab_type": "code",
        "outputId": "b7eb9c5f-fe66-469b-b4db-f29530bbd5df",
        "colab": {
          "base_uri": "https://localhost:8080/",
          "height": 34
        }
      },
      "source": [
        "print(score)"
      ],
      "execution_count": 15,
      "outputs": [
        {
          "output_type": "stream",
          "text": [
            "[0.023814394168465515, 0.9939]\n"
          ],
          "name": "stdout"
        }
      ]
    },
    {
      "cell_type": "markdown",
      "metadata": {
        "id": "BgdkBzSlBh-S",
        "colab_type": "text"
      },
      "source": [
        "- **Getting the prediction on first 9 images of test set from the trained model**"
      ]
    },
    {
      "cell_type": "code",
      "metadata": {
        "id": "OCWoJkwE9suh",
        "colab_type": "code",
        "colab": {}
      },
      "source": [
        "y_pred = model.predict(X_test)"
      ],
      "execution_count": 0,
      "outputs": []
    },
    {
      "cell_type": "code",
      "metadata": {
        "id": "Ym7iCFBm9uBs",
        "colab_type": "code",
        "outputId": "22c02803-348e-42c5-cea9-4ecaff74a31d",
        "colab": {
          "base_uri": "https://localhost:8080/",
          "height": 510
        }
      },
      "source": [
        "print(y_pred[:9])\n",
        "print(y_test[:9])"
      ],
      "execution_count": 17,
      "outputs": [
        {
          "output_type": "stream",
          "text": [
            "[[5.93302629e-11 8.35491321e-08 6.66062897e-06 7.20427863e-07\n",
            "  1.01867577e-10 1.48731569e-10 2.03785804e-17 9.99990106e-01\n",
            "  3.46937834e-09 2.38166331e-06]\n",
            " [1.71180368e-08 5.49864403e-08 9.99999762e-01 5.22046462e-10\n",
            "  3.10654128e-12 5.02179097e-11 6.41621938e-08 1.33270073e-09\n",
            "  2.93167324e-10 4.58587508e-12]\n",
            " [1.68966537e-07 9.99929309e-01 4.92305116e-05 1.30114145e-07\n",
            "  3.47220794e-06 5.43456372e-06 2.39386964e-06 6.59548959e-07\n",
            "  9.20542516e-06 1.27930264e-07]\n",
            " [9.99445021e-01 9.26169298e-12 4.76248552e-08 1.16875799e-06\n",
            "  6.94979541e-09 2.70443434e-06 5.47658245e-04 8.42951124e-07\n",
            "  2.15931345e-06 4.74296172e-07]\n",
            " [1.43764089e-11 1.34958722e-09 1.76752852e-08 9.95754434e-12\n",
            "  9.99977708e-01 2.58528560e-10 4.29083408e-10 1.80041539e-07\n",
            "  4.73418371e-09 2.21075043e-05]\n",
            " [2.41075759e-09 9.99984741e-01 4.65305538e-06 7.01326064e-09\n",
            "  4.85944292e-06 5.34043750e-07 5.47023440e-08 2.04872617e-06\n",
            "  2.99454132e-06 1.00705165e-07]\n",
            " [8.10050974e-13 1.13179049e-05 5.65967788e-08 1.20956585e-07\n",
            "  9.99884963e-01 1.55523505e-08 2.70557756e-14 7.75681110e-05\n",
            "  3.30800890e-06 2.26632765e-05]\n",
            " [2.76711312e-08 2.42755621e-10 3.98448279e-08 7.41238608e-08\n",
            "  1.82414678e-05 3.50229143e-08 5.12149828e-12 1.40315876e-07\n",
            "  7.01867236e-07 9.99980688e-01]\n",
            " [4.55756634e-07 3.82429477e-10 2.06504644e-08 6.69045085e-06\n",
            "  1.31255566e-08 9.99315500e-01 6.03608496e-04 3.46033389e-08\n",
            "  6.63636310e-05 7.41615668e-06]]\n",
            "[7 2 1 0 4 1 4 9 5]\n"
          ],
          "name": "stdout"
        }
      ]
    }
  ]
}