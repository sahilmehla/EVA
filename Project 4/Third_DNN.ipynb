{
  "nbformat": 4,
  "nbformat_minor": 0,
  "metadata": {
    "colab": {
      "name": "Third_DNN.ipynb",
      "version": "0.3.2",
      "provenance": [],
      "collapsed_sections": []
    },
    "kernelspec": {
      "name": "python3",
      "display_name": "Python 3"
    },
    "accelerator": "GPU"
  },
  "cells": [
    {
      "cell_type": "markdown",
      "metadata": {
        "id": "aNyZv-Ec52ot",
        "colab_type": "text"
      },
      "source": [
        "- **Importing keras**"
      ]
    },
    {
      "cell_type": "code",
      "metadata": {
        "id": "3m3w1Cw49Zkt",
        "colab_type": "code",
        "colab": {}
      },
      "source": [
        "# https://keras.io/\n",
        "!pip install -q keras\n",
        "import keras"
      ],
      "execution_count": 0,
      "outputs": []
    },
    {
      "cell_type": "markdown",
      "metadata": {
        "id": "kRS90KkL9JqN",
        "colab_type": "text"
      },
      "source": [
        "- **Importing models and layers from keras**\n",
        "- **Importing mnist dataset**\n",
        "- **Importing python utilities - numpy**\n"
      ]
    },
    {
      "cell_type": "code",
      "metadata": {
        "id": "Eso6UHE080D4",
        "colab_type": "code",
        "colab": {}
      },
      "source": [
        "import numpy as np\n",
        "\n",
        "from keras.models import Sequential\n",
        "from keras.layers import Dense, Dropout, Activation, Flatten, Add, BatchNormalization\n",
        "from keras.layers import Convolution2D, MaxPooling2D\n",
        "from keras.utils import np_utils\n",
        "\n",
        "from keras.datasets import mnist"
      ],
      "execution_count": 0,
      "outputs": []
    },
    {
      "cell_type": "markdown",
      "metadata": {
        "id": "zByEi95J86RD",
        "colab_type": "text"
      },
      "source": [
        "- **Load pre-shuffled MNIST data into train and test sets**"
      ]
    },
    {
      "cell_type": "code",
      "metadata": {
        "id": "7eRM0QWN83PV",
        "colab_type": "code",
        "colab": {}
      },
      "source": [
        "(X_train, y_train), (X_test, y_test) = mnist.load_data()"
      ],
      "execution_count": 0,
      "outputs": []
    },
    {
      "cell_type": "markdown",
      "metadata": {
        "id": "pLqt13Wi-4Pj",
        "colab_type": "text"
      },
      "source": [
        "\n",
        "- **Printing a image from the training dataset**"
      ]
    },
    {
      "cell_type": "code",
      "metadata": {
        "id": "4a4Be72j8-ZC",
        "colab_type": "code",
        "outputId": "f6ab2fc1-5e64-4eff-ef3f-475a8fe35835",
        "colab": {
          "base_uri": "https://localhost:8080/",
          "height": 304
        }
      },
      "source": [
        "print (X_train.shape)\n",
        "from matplotlib import pyplot as plt\n",
        "%matplotlib inline\n",
        "plt.imshow(X_train[0])"
      ],
      "execution_count": 81,
      "outputs": [
        {
          "output_type": "stream",
          "text": [
            "(60000, 28, 28)\n"
          ],
          "name": "stdout"
        },
        {
          "output_type": "execute_result",
          "data": {
            "text/plain": [
              "<matplotlib.image.AxesImage at 0x7fdf65af2780>"
            ]
          },
          "metadata": {
            "tags": []
          },
          "execution_count": 81
        },
        {
          "output_type": "display_data",
          "data": {
            "image/png": "[encoded data removed]",
            "text/plain": [
              "<Figure size 432x288 with 1 Axes>"
            ]
          },
          "metadata": {
            "tags": []
          }
        }
      ]
    },
    {
      "cell_type": "markdown",
      "metadata": {
        "id": "D0jrqIYx_G0U",
        "colab_type": "text"
      },
      "source": [
        "- **Reshaping the images as 28x28 matrix**"
      ]
    },
    {
      "cell_type": "code",
      "metadata": {
        "id": "dkmprriw9AnZ",
        "colab_type": "code",
        "colab": {}
      },
      "source": [
        "X_train = X_train.reshape(X_train.shape[0], 28, 28,1)\n",
        "X_test = X_test.reshape(X_test.shape[0], 28, 28,1)"
      ],
      "execution_count": 0,
      "outputs": []
    },
    {
      "cell_type": "markdown",
      "metadata": {
        "id": "_UchoEqV_PVE",
        "colab_type": "text"
      },
      "source": [
        "- **Normalizing both the training and test images\n",
        "such that each value in the image will be b/w 0.0 and 1.0**"
      ]
    },
    {
      "cell_type": "code",
      "metadata": {
        "id": "X2m4YS4E9CRh",
        "colab_type": "code",
        "colab": {}
      },
      "source": [
        "X_train = X_train.astype('float32')\n",
        "X_test = X_test.astype('float32')\n",
        "X_train /= 255\n",
        "X_test /= 255"
      ],
      "execution_count": 0,
      "outputs": []
    },
    {
      "cell_type": "markdown",
      "metadata": {
        "id": "pKLK_sDS_e7f",
        "colab_type": "text"
      },
      "source": [
        "- **Listing the labels (from 0 to 9) for first 10 images**"
      ]
    },
    {
      "cell_type": "code",
      "metadata": {
        "id": "0Mn0vAYD9DvB",
        "colab_type": "code",
        "outputId": "8fb56c54-3487-4948-f9f4-be7a6441eb35",
        "colab": {
          "base_uri": "https://localhost:8080/",
          "height": 34
        }
      },
      "source": [
        "y_train[:10]"
      ],
      "execution_count": 84,
      "outputs": [
        {
          "output_type": "execute_result",
          "data": {
            "text/plain": [
              "array([5, 0, 4, 1, 9, 2, 1, 3, 1, 4], dtype=uint8)"
            ]
          },
          "metadata": {
            "tags": []
          },
          "execution_count": 84
        }
      ]
    },
    {
      "cell_type": "markdown",
      "metadata": {
        "id": "Nc0b9Vus_kNQ",
        "colab_type": "text"
      },
      "source": [
        "- **Convert 1-dimensional class arrays to 10-dimensional class matrices**"
      ]
    },
    {
      "cell_type": "code",
      "metadata": {
        "id": "ZG8JiXR39FHC",
        "colab_type": "code",
        "colab": {}
      },
      "source": [
        "Y_train = np_utils.to_categorical(y_train, 10)\n",
        "Y_test = np_utils.to_categorical(y_test, 10)"
      ],
      "execution_count": 0,
      "outputs": []
    },
    {
      "cell_type": "markdown",
      "metadata": {
        "id": "NBuyGiwe_7BJ",
        "colab_type": "text"
      },
      "source": [
        "- **This is how the 10 Dimentional class matrix looks like\n",
        " The position of \"1.\" at each row is basically the label\n",
        " of the image.**"
      ]
    },
    {
      "cell_type": "code",
      "metadata": {
        "id": "fYlFRvKS9HMB",
        "colab_type": "code",
        "outputId": "59105121-e09a-4c9d-fb2a-629de7418cf8",
        "colab": {
          "base_uri": "https://localhost:8080/",
          "height": 193
        }
      },
      "source": [
        "Y_train[:10]\n"
      ],
      "execution_count": 86,
      "outputs": [
        {
          "output_type": "execute_result",
          "data": {
            "text/plain": [
              "array([[0., 0., 0., 0., 0., 1., 0., 0., 0., 0.],\n",
              "       [1., 0., 0., 0., 0., 0., 0., 0., 0., 0.],\n",
              "       [0., 0., 0., 0., 1., 0., 0., 0., 0., 0.],\n",
              "       [0., 1., 0., 0., 0., 0., 0., 0., 0., 0.],\n",
              "       [0., 0., 0., 0., 0., 0., 0., 0., 0., 1.],\n",
              "       [0., 0., 1., 0., 0., 0., 0., 0., 0., 0.],\n",
              "       [0., 1., 0., 0., 0., 0., 0., 0., 0., 0.],\n",
              "       [0., 0., 0., 1., 0., 0., 0., 0., 0., 0.],\n",
              "       [0., 1., 0., 0., 0., 0., 0., 0., 0., 0.],\n",
              "       [0., 0., 0., 0., 1., 0., 0., 0., 0., 0.]], dtype=float32)"
            ]
          },
          "metadata": {
            "tags": []
          },
          "execution_count": 86
        }
      ]
    },
    {
      "cell_type": "markdown",
      "metadata": {
        "id": "s5bMWyrxAFNs",
        "colab_type": "text"
      },
      "source": [
        "Third Network (With all the tools)\n",
        "              \n",
        "          \n",
        "| Observation | Value |\n",
        "| :------------------- | ---------------: |\n",
        "| Total Parameters | 13,230  |\n",
        "| Best Testing Accuracy | 98.21 |\n",
        "| Best Validation Accuracy | 98.69 |\n",
        "| Batch Size | 32 |\n",
        "| Epochs | 20 |\n",
        "| Optimizer | SGD |\n",
        "|Overfitting| Reduced|\n",
        "| 3 Improvements over previous layer | Introduced Batch normalization |\n",
        "||Introduced droupout|\n",
        "||Optimizer changed from adam to SGD|\n",
        "\n",
        "\n",
        "\n",
        "\n",
        "\n",
        "\n",
        "                    "
      ]
    },
    {
      "cell_type": "code",
      "metadata": {
        "id": "osKqT73Q9JJB",
        "colab_type": "code",
        "outputId": "612bc077-37f1-43ca-bc12-61c7c2c72245",
        "colab": {
          "base_uri": "https://localhost:8080/",
          "height": 210
        }
      },
      "source": [
        "from keras.layers import Activation\n",
        "model = Sequential()\n",
        "\n",
        "                                                     # Output channel dimensions | Receptive field\n",
        "model.add(Convolution2D(16, 3, 3, activation='relu', input_shape=(28,28,1))) # 26 | 3x3\n",
        "model.add(BatchNormalization())\n",
        "model.add(Dropout(0.1))\n",
        "\n",
        "model.add(Convolution2D(16, 3, 3, activation='relu')) # 24 | 5x5\n",
        "model.add(BatchNormalization())\n",
        "model.add(Dropout(0.1))\n",
        "\n",
        "model.add(MaxPooling2D(pool_size=(2, 2))) # 12 | 10x10\n",
        "model.add(Convolution2D(10, 1, 1, activation='relu')) # 12\n",
        "\n",
        "model.add(Convolution2D(16, 3, 3, activation='relu')) #  10 | 12x12\n",
        "model.add(BatchNormalization())\n",
        "model.add(Dropout(0.1))\n",
        "model.add(Convolution2D(16, 3, 3, activation='relu')) #   8 | 14x14\n",
        "model.add(BatchNormalization())\n",
        "model.add(Dropout(0.1))\n",
        "model.add(Convolution2D(16, 3, 3, activation='relu')) #   6 | 16x16\n",
        "model.add(BatchNormalization())\n",
        "model.add(Dropout(0.1))\n",
        "model.add(Convolution2D(16, 3, 3, activation='relu')) #   4 | 18x18\n",
        "model.add(BatchNormalization())\n",
        "model.add(Dropout(0.1))\n",
        "\n",
        "model.add(Convolution2D(10, 1, activation='relu')) #4\n",
        "model.add(Convolution2D(10, 4))\n",
        "model.add(Flatten())\n",
        "model.add(Activation('softmax'))"
      ],
      "execution_count": 87,
      "outputs": [
        {
          "output_type": "stream",
          "text": [
            "/usr/local/lib/python3.6/dist-packages/ipykernel_launcher.py:5: UserWarning: Update your `Conv2D` call to the Keras 2 API: `Conv2D(16, (3, 3), activation=\"relu\", input_shape=(28, 28, 1...)`\n",
            "  \"\"\"\n",
            "/usr/local/lib/python3.6/dist-packages/ipykernel_launcher.py:9: UserWarning: Update your `Conv2D` call to the Keras 2 API: `Conv2D(16, (3, 3), activation=\"relu\")`\n",
            "  if __name__ == '__main__':\n",
            "/usr/local/lib/python3.6/dist-packages/ipykernel_launcher.py:14: UserWarning: Update your `Conv2D` call to the Keras 2 API: `Conv2D(10, (1, 1), activation=\"relu\")`\n",
            "  \n",
            "/usr/local/lib/python3.6/dist-packages/ipykernel_launcher.py:16: UserWarning: Update your `Conv2D` call to the Keras 2 API: `Conv2D(16, (3, 3), activation=\"relu\")`\n",
            "  app.launch_new_instance()\n",
            "/usr/local/lib/python3.6/dist-packages/ipykernel_launcher.py:19: UserWarning: Update your `Conv2D` call to the Keras 2 API: `Conv2D(16, (3, 3), activation=\"relu\")`\n",
            "/usr/local/lib/python3.6/dist-packages/ipykernel_launcher.py:22: UserWarning: Update your `Conv2D` call to the Keras 2 API: `Conv2D(16, (3, 3), activation=\"relu\")`\n",
            "/usr/local/lib/python3.6/dist-packages/ipykernel_launcher.py:25: UserWarning: Update your `Conv2D` call to the Keras 2 API: `Conv2D(16, (3, 3), activation=\"relu\")`\n"
          ],
          "name": "stderr"
        }
      ]
    },
    {
      "cell_type": "code",
      "metadata": {
        "id": "TzdAYg1k9K7Z",
        "colab_type": "code",
        "outputId": "39f2f664-3f2a-4771-d133-c35da2d27685",
        "colab": {
          "base_uri": "https://localhost:8080/",
          "height": 985
        }
      },
      "source": [
        "model.summary()"
      ],
      "execution_count": 88,
      "outputs": [
        {
          "output_type": "stream",
          "text": [
            "_________________________________________________________________\n",
            "Layer (type)                 Output Shape              Param #   \n",
            "=================================================================\n",
            "conv2d_46 (Conv2D)           (None, 26, 26, 16)        160       \n",
            "_________________________________________________________________\n",
            "batch_normalization_31 (Batc (None, 26, 26, 16)        64        \n",
            "_________________________________________________________________\n",
            "dropout_31 (Dropout)         (None, 26, 26, 16)        0         \n",
            "_________________________________________________________________\n",
            "conv2d_47 (Conv2D)           (None, 24, 24, 16)        2320      \n",
            "_________________________________________________________________\n",
            "batch_normalization_32 (Batc (None, 24, 24, 16)        64        \n",
            "_________________________________________________________________\n",
            "dropout_32 (Dropout)         (None, 24, 24, 16)        0         \n",
            "_________________________________________________________________\n",
            "max_pooling2d_6 (MaxPooling2 (None, 12, 12, 16)        0         \n",
            "_________________________________________________________________\n",
            "conv2d_48 (Conv2D)           (None, 12, 12, 10)        170       \n",
            "_________________________________________________________________\n",
            "conv2d_49 (Conv2D)           (None, 10, 10, 16)        1456      \n",
            "_________________________________________________________________\n",
            "batch_normalization_33 (Batc (None, 10, 10, 16)        64        \n",
            "_________________________________________________________________\n",
            "dropout_33 (Dropout)         (None, 10, 10, 16)        0         \n",
            "_________________________________________________________________\n",
            "conv2d_50 (Conv2D)           (None, 8, 8, 16)          2320      \n",
            "_________________________________________________________________\n",
            "batch_normalization_34 (Batc (None, 8, 8, 16)          64        \n",
            "_________________________________________________________________\n",
            "dropout_34 (Dropout)         (None, 8, 8, 16)          0         \n",
            "_________________________________________________________________\n",
            "conv2d_51 (Conv2D)           (None, 6, 6, 16)          2320      \n",
            "_________________________________________________________________\n",
            "batch_normalization_35 (Batc (None, 6, 6, 16)          64        \n",
            "_________________________________________________________________\n",
            "dropout_35 (Dropout)         (None, 6, 6, 16)          0         \n",
            "_________________________________________________________________\n",
            "conv2d_52 (Conv2D)           (None, 4, 4, 16)          2320      \n",
            "_________________________________________________________________\n",
            "batch_normalization_36 (Batc (None, 4, 4, 16)          64        \n",
            "_________________________________________________________________\n",
            "dropout_36 (Dropout)         (None, 4, 4, 16)          0         \n",
            "_________________________________________________________________\n",
            "conv2d_53 (Conv2D)           (None, 4, 4, 10)          170       \n",
            "_________________________________________________________________\n",
            "conv2d_54 (Conv2D)           (None, 1, 1, 10)          1610      \n",
            "_________________________________________________________________\n",
            "flatten_6 (Flatten)          (None, 10)                0         \n",
            "_________________________________________________________________\n",
            "activation_6 (Activation)    (None, 10)                0         \n",
            "=================================================================\n",
            "Total params: 13,230\n",
            "Trainable params: 13,038\n",
            "Non-trainable params: 192\n",
            "_________________________________________________________________\n"
          ],
          "name": "stdout"
        }
      ]
    },
    {
      "cell_type": "markdown",
      "metadata": {
        "id": "AsXLiI6BAacS",
        "colab_type": "text"
      },
      "source": [
        "- **Using stochastic gradient descent**"
      ]
    },
    {
      "cell_type": "code",
      "metadata": {
        "id": "Zp6SuGrL9M3h",
        "colab_type": "code",
        "colab": {}
      },
      "source": [
        "model.compile(loss='categorical_crossentropy',\n",
        "             optimizer='SGD',\n",
        "             metrics=['accuracy'])"
      ],
      "execution_count": 0,
      "outputs": []
    },
    {
      "cell_type": "markdown",
      "metadata": {
        "id": "HWJWlRu1ASZ_",
        "colab_type": "text"
      },
      "source": [
        "\n",
        "- **Training the model with batch size of 32 images and epoch = 20**"
      ]
    },
    {
      "cell_type": "code",
      "metadata": {
        "id": "4xWoKhPY9Of5",
        "colab_type": "code",
        "outputId": "706060d8-ca57-4d3c-a238-34d6f51c3e00",
        "colab": {
          "base_uri": "https://localhost:8080/",
          "height": 756
        }
      },
      "source": [
        "model.fit(X_train, Y_train, batch_size=128, \n",
        "          epochs=20, verbose=1, \n",
        "          validation_data=(X_test, Y_test), )"
      ],
      "execution_count": 90,
      "outputs": [
        {
          "output_type": "stream",
          "text": [
            "Train on 60000 samples, validate on 10000 samples\n",
            "Epoch 1/20\n",
            "60000/60000 [==============================] - 8s 126us/step - loss: 0.9159 - acc: 0.7188 - val_loss: 0.3625 - val_acc: 0.8916\n",
            "Epoch 2/20\n",
            "60000/60000 [==============================] - 5s 89us/step - loss: 0.2779 - acc: 0.9169 - val_loss: 0.2194 - val_acc: 0.9329\n",
            "Epoch 3/20\n",
            "60000/60000 [==============================] - 5s 89us/step - loss: 0.1933 - acc: 0.9412 - val_loss: 0.1679 - val_acc: 0.9488\n",
            "Epoch 4/20\n",
            "60000/60000 [==============================] - 5s 88us/step - loss: 0.1537 - acc: 0.9535 - val_loss: 0.1307 - val_acc: 0.9599\n",
            "Epoch 5/20\n",
            "60000/60000 [==============================] - 5s 89us/step - loss: 0.1289 - acc: 0.9615 - val_loss: 0.1106 - val_acc: 0.9662\n",
            "Epoch 6/20\n",
            "60000/60000 [==============================] - 5s 89us/step - loss: 0.1131 - acc: 0.9645 - val_loss: 0.1301 - val_acc: 0.9606\n",
            "Epoch 7/20\n",
            "60000/60000 [==============================] - 5s 89us/step - loss: 0.1040 - acc: 0.9681 - val_loss: 0.0835 - val_acc: 0.9750\n",
            "Epoch 8/20\n",
            "60000/60000 [==============================] - 5s 89us/step - loss: 0.0930 - acc: 0.9712 - val_loss: 0.0818 - val_acc: 0.9747\n",
            "Epoch 9/20\n",
            "60000/60000 [==============================] - 5s 88us/step - loss: 0.0878 - acc: 0.9728 - val_loss: 0.0688 - val_acc: 0.9791\n",
            "Epoch 10/20\n",
            "60000/60000 [==============================] - 5s 89us/step - loss: 0.0802 - acc: 0.9755 - val_loss: 0.0782 - val_acc: 0.9756\n",
            "Epoch 11/20\n",
            "60000/60000 [==============================] - 5s 89us/step - loss: 0.0759 - acc: 0.9761 - val_loss: 0.0590 - val_acc: 0.9818\n",
            "Epoch 12/20\n",
            "60000/60000 [==============================] - 5s 89us/step - loss: 0.0710 - acc: 0.9786 - val_loss: 0.0629 - val_acc: 0.9809\n",
            "Epoch 13/20\n",
            "60000/60000 [==============================] - 5s 89us/step - loss: 0.0676 - acc: 0.9787 - val_loss: 0.0573 - val_acc: 0.9831\n",
            "Epoch 14/20\n",
            "60000/60000 [==============================] - 6s 98us/step - loss: 0.0643 - acc: 0.9802 - val_loss: 0.0593 - val_acc: 0.9818\n",
            "Epoch 15/20\n",
            "60000/60000 [==============================] - 6s 98us/step - loss: 0.0622 - acc: 0.9806 - val_loss: 0.0511 - val_acc: 0.9846\n",
            "Epoch 16/20\n",
            "60000/60000 [==============================] - 5s 88us/step - loss: 0.0611 - acc: 0.9803 - val_loss: 0.0570 - val_acc: 0.9824\n",
            "Epoch 17/20\n",
            "60000/60000 [==============================] - 5s 89us/step - loss: 0.0601 - acc: 0.9808 - val_loss: 0.0475 - val_acc: 0.9855\n",
            "Epoch 18/20\n",
            "60000/60000 [==============================] - 5s 88us/step - loss: 0.0574 - acc: 0.9817 - val_loss: 0.0453 - val_acc: 0.9862\n",
            "Epoch 19/20\n",
            "60000/60000 [==============================] - 5s 88us/step - loss: 0.0543 - acc: 0.9833 - val_loss: 0.0447 - val_acc: 0.9862\n",
            "Epoch 20/20\n",
            "60000/60000 [==============================] - 5s 88us/step - loss: 0.0533 - acc: 0.9837 - val_loss: 0.0462 - val_acc: 0.9862\n"
          ],
          "name": "stdout"
        },
        {
          "output_type": "execute_result",
          "data": {
            "text/plain": [
              "<keras.callbacks.History at 0x7fdf65298780>"
            ]
          },
          "metadata": {
            "tags": []
          },
          "execution_count": 90
        }
      ]
    },
    {
      "cell_type": "code",
      "metadata": {
        "id": "AtsH-lLk-eLb",
        "colab_type": "code",
        "colab": {}
      },
      "source": [
        "score = model.evaluate(X_test, Y_test, verbose=0)"
      ],
      "execution_count": 0,
      "outputs": []
    },
    {
      "cell_type": "code",
      "metadata": {
        "id": "mkX8JMv79q9r",
        "colab_type": "code",
        "outputId": "ca8b7b67-b9c2-4fde-92f7-53d3fc9d6472",
        "colab": {
          "base_uri": "https://localhost:8080/",
          "height": 34
        }
      },
      "source": [
        "print(score)"
      ],
      "execution_count": 92,
      "outputs": [
        {
          "output_type": "stream",
          "text": [
            "[0.04619863139530644, 0.9862]\n"
          ],
          "name": "stdout"
        }
      ]
    },
    {
      "cell_type": "markdown",
      "metadata": {
        "id": "BgdkBzSlBh-S",
        "colab_type": "text"
      },
      "source": [
        "- **Getting the prediction on first 9 images of test set from the trained model**"
      ]
    },
    {
      "cell_type": "code",
      "metadata": {
        "id": "OCWoJkwE9suh",
        "colab_type": "code",
        "colab": {}
      },
      "source": [
        "y_pred = model.predict(X_test)"
      ],
      "execution_count": 0,
      "outputs": []
    },
    {
      "cell_type": "code",
      "metadata": {
        "id": "Ym7iCFBm9uBs",
        "colab_type": "code",
        "outputId": "db23d85d-c75c-488e-adef-e0023c6f7116",
        "colab": {
          "base_uri": "https://localhost:8080/",
          "height": 510
        }
      },
      "source": [
        "print(y_pred[:9])\n",
        "print(y_test[:9])"
      ],
      "execution_count": 94,
      "outputs": [
        {
          "output_type": "stream",
          "text": [
            "[[1.38148380e-06 1.61366319e-04 4.42255914e-05 1.73573844e-05\n",
            "  1.40906494e-07 1.05486944e-08 2.68458866e-12 9.99763548e-01\n",
            "  2.10585105e-09 1.19877768e-05]\n",
            " [8.60441360e-04 3.12108137e-02 9.64529991e-01 1.01194846e-05\n",
            "  3.25163492e-05 6.65807704e-07 2.11178602e-04 1.46578323e-05\n",
            "  3.12919542e-03 3.10253910e-07]\n",
            " [2.60266177e-07 9.99931455e-01 1.59100418e-05 2.71979320e-06\n",
            "  1.01391415e-05 3.06538550e-06 2.26160921e-07 2.48781798e-05\n",
            "  2.97560496e-06 8.47350020e-06]\n",
            " [9.99534965e-01 1.22882284e-06 2.24302221e-06 1.60235845e-06\n",
            "  2.31077956e-05 3.74115589e-05 7.64420256e-05 1.24475526e-04\n",
            "  8.71717930e-06 1.89945931e-04]\n",
            " [8.28659449e-06 1.99581521e-07 6.74156695e-08 3.67185327e-09\n",
            "  9.99635696e-01 8.95131720e-08 9.12638734e-06 7.99924601e-06\n",
            "  2.64659752e-06 3.35756078e-04]\n",
            " [9.50363528e-07 9.99619961e-01 4.44027683e-05 6.51123219e-06\n",
            "  5.85445050e-05 3.68079054e-06 3.03142656e-07 1.84341043e-04\n",
            "  2.58974455e-06 7.87335302e-05]\n",
            " [6.10189886e-07 3.90470319e-04 8.75448109e-07 2.70170517e-08\n",
            "  9.96251762e-01 2.16871232e-08 1.49248358e-09 3.06042214e-03\n",
            "  5.90579948e-05 2.36777792e-04]\n",
            " [2.30920250e-06 8.77427738e-07 2.39699693e-06 8.74223315e-06\n",
            "  1.65144401e-03 2.78708667e-05 5.81705493e-08 1.12816757e-04\n",
            "  3.93129922e-05 9.98154223e-01]\n",
            " [5.10020509e-05 8.61076217e-07 1.14270655e-07 1.83558961e-06\n",
            "  1.00865336e-07 9.79791105e-01 1.94317661e-02 7.30554550e-09\n",
            "  6.80617755e-04 4.24375539e-05]]\n",
            "[7 2 1 0 4 1 4 9 5]\n"
          ],
          "name": "stdout"
        }
      ]
    }
  ]
}