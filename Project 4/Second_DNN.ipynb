{
  "nbformat": 4,
  "nbformat_minor": 0,
  "metadata": {
    "colab": {
      "name": "Second_DNN.ipynb",
      "version": "0.3.2",
      "provenance": [],
      "collapsed_sections": []
    },
    "kernelspec": {
      "name": "python3",
      "display_name": "Python 3"
    },
    "accelerator": "GPU"
  },
  "cells": [
    {
      "cell_type": "markdown",
      "metadata": {
        "id": "aNyZv-Ec52ot",
        "colab_type": "text"
      },
      "source": [
        "- **Importing keras**"
      ]
    },
    {
      "cell_type": "code",
      "metadata": {
        "id": "3m3w1Cw49Zkt",
        "colab_type": "code",
        "colab": {}
      },
      "source": [
        "# https://keras.io/\n",
        "!pip install -q keras\n",
        "import keras"
      ],
      "execution_count": 0,
      "outputs": []
    },
    {
      "cell_type": "markdown",
      "metadata": {
        "id": "kRS90KkL9JqN",
        "colab_type": "text"
      },
      "source": [
        "- **Importing models and layers from keras**\n",
        "- **Importing mnist dataset**\n",
        "- **Importing python utilities - numpy**\n"
      ]
    },
    {
      "cell_type": "code",
      "metadata": {
        "id": "Eso6UHE080D4",
        "colab_type": "code",
        "colab": {}
      },
      "source": [
        "import numpy as np\n",
        "\n",
        "from keras.models import Sequential\n",
        "from keras.layers import Dense, Dropout, Activation, Flatten, Add\n",
        "from keras.layers import Convolution2D, MaxPooling2D\n",
        "from keras.utils import np_utils\n",
        "\n",
        "from keras.datasets import mnist"
      ],
      "execution_count": 0,
      "outputs": []
    },
    {
      "cell_type": "markdown",
      "metadata": {
        "id": "zByEi95J86RD",
        "colab_type": "text"
      },
      "source": [
        "- **Load pre-shuffled MNIST data into train and test sets**"
      ]
    },
    {
      "cell_type": "code",
      "metadata": {
        "id": "7eRM0QWN83PV",
        "colab_type": "code",
        "colab": {}
      },
      "source": [
        "(X_train, y_train), (X_test, y_test) = mnist.load_data()"
      ],
      "execution_count": 0,
      "outputs": []
    },
    {
      "cell_type": "markdown",
      "metadata": {
        "id": "pLqt13Wi-4Pj",
        "colab_type": "text"
      },
      "source": [
        "\n",
        "- **Printing a image from the training dataset**"
      ]
    },
    {
      "cell_type": "code",
      "metadata": {
        "id": "4a4Be72j8-ZC",
        "colab_type": "code",
        "outputId": "cc44a723-7acd-4c98-d5cc-4ad85804853a",
        "colab": {
          "base_uri": "https://localhost:8080/",
          "height": 304
        }
      },
      "source": [
        "print (X_train.shape)\n",
        "from matplotlib import pyplot as plt\n",
        "%matplotlib inline\n",
        "plt.imshow(X_train[0])"
      ],
      "execution_count": 17,
      "outputs": [
        {
          "output_type": "stream",
          "text": [
            "(60000, 28, 28)\n"
          ],
          "name": "stdout"
        },
        {
          "output_type": "execute_result",
          "data": {
            "text/plain": [
              "<matplotlib.image.AxesImage at 0x7f8ac8252630>"
            ]
          },
          "metadata": {
            "tags": []
          },
          "execution_count": 17
        },
        {
          "output_type": "display_data",
          "data": {
            "image/png": "[encoded data removed]",
            "text/plain": [
              "<Figure size 432x288 with 1 Axes>"
            ]
          },
          "metadata": {
            "tags": []
          }
        }
      ]
    },
    {
      "cell_type": "markdown",
      "metadata": {
        "id": "D0jrqIYx_G0U",
        "colab_type": "text"
      },
      "source": [
        "- **Reshaping the images as 28x28 matrix**"
      ]
    },
    {
      "cell_type": "code",
      "metadata": {
        "id": "dkmprriw9AnZ",
        "colab_type": "code",
        "colab": {}
      },
      "source": [
        "X_train = X_train.reshape(X_train.shape[0], 28, 28,1)\n",
        "X_test = X_test.reshape(X_test.shape[0], 28, 28,1)"
      ],
      "execution_count": 0,
      "outputs": []
    },
    {
      "cell_type": "markdown",
      "metadata": {
        "id": "_UchoEqV_PVE",
        "colab_type": "text"
      },
      "source": [
        "- **Normalizing both the training and test images\n",
        "such that each value in the image will be b/w 0.0 and 1.0**"
      ]
    },
    {
      "cell_type": "code",
      "metadata": {
        "id": "X2m4YS4E9CRh",
        "colab_type": "code",
        "colab": {}
      },
      "source": [
        "X_train = X_train.astype('float32')\n",
        "X_test = X_test.astype('float32')\n",
        "X_train /= 255\n",
        "X_test /= 255"
      ],
      "execution_count": 0,
      "outputs": []
    },
    {
      "cell_type": "markdown",
      "metadata": {
        "id": "pKLK_sDS_e7f",
        "colab_type": "text"
      },
      "source": [
        "- **Listing the labels (from 0 to 9) for first 10 images**"
      ]
    },
    {
      "cell_type": "code",
      "metadata": {
        "id": "0Mn0vAYD9DvB",
        "colab_type": "code",
        "outputId": "eb14bde0-e3a1-4861-926c-d4de05ffca3e",
        "colab": {
          "base_uri": "https://localhost:8080/",
          "height": 34
        }
      },
      "source": [
        "y_train[:10]"
      ],
      "execution_count": 20,
      "outputs": [
        {
          "output_type": "execute_result",
          "data": {
            "text/plain": [
              "array([5, 0, 4, 1, 9, 2, 1, 3, 1, 4], dtype=uint8)"
            ]
          },
          "metadata": {
            "tags": []
          },
          "execution_count": 20
        }
      ]
    },
    {
      "cell_type": "markdown",
      "metadata": {
        "id": "Nc0b9Vus_kNQ",
        "colab_type": "text"
      },
      "source": [
        "- **Convert 1-dimensional class arrays to 10-dimensional class matrices**"
      ]
    },
    {
      "cell_type": "code",
      "metadata": {
        "id": "ZG8JiXR39FHC",
        "colab_type": "code",
        "colab": {}
      },
      "source": [
        "Y_train = np_utils.to_categorical(y_train, 10)\n",
        "Y_test = np_utils.to_categorical(y_test, 10)"
      ],
      "execution_count": 0,
      "outputs": []
    },
    {
      "cell_type": "markdown",
      "metadata": {
        "id": "NBuyGiwe_7BJ",
        "colab_type": "text"
      },
      "source": [
        "- **This is how the 10 Dimentional class matrix looks like\n",
        " The position of \"1.\" at each row is basically the label\n",
        " of the image.**"
      ]
    },
    {
      "cell_type": "code",
      "metadata": {
        "id": "fYlFRvKS9HMB",
        "colab_type": "code",
        "outputId": "3801fb99-cc9e-4d4d-ccad-7fdd9be487a9",
        "colab": {
          "base_uri": "https://localhost:8080/",
          "height": 193
        }
      },
      "source": [
        "Y_train[:10]\n"
      ],
      "execution_count": 22,
      "outputs": [
        {
          "output_type": "execute_result",
          "data": {
            "text/plain": [
              "array([[0., 0., 0., 0., 0., 1., 0., 0., 0., 0.],\n",
              "       [1., 0., 0., 0., 0., 0., 0., 0., 0., 0.],\n",
              "       [0., 0., 0., 0., 1., 0., 0., 0., 0., 0.],\n",
              "       [0., 1., 0., 0., 0., 0., 0., 0., 0., 0.],\n",
              "       [0., 0., 0., 0., 0., 0., 0., 0., 0., 1.],\n",
              "       [0., 0., 1., 0., 0., 0., 0., 0., 0., 0.],\n",
              "       [0., 1., 0., 0., 0., 0., 0., 0., 0., 0.],\n",
              "       [0., 0., 0., 1., 0., 0., 0., 0., 0., 0.],\n",
              "       [0., 1., 0., 0., 0., 0., 0., 0., 0., 0.],\n",
              "       [0., 0., 0., 0., 1., 0., 0., 0., 0., 0.]], dtype=float32)"
            ]
          },
          "metadata": {
            "tags": []
          },
          "execution_count": 22
        }
      ]
    },
    {
      "cell_type": "markdown",
      "metadata": {
        "id": "s5bMWyrxAFNs",
        "colab_type": "text"
      },
      "source": [
        "## Second network(minimum parameters)\n",
        "              \n",
        "          \n",
        "| Observation | Value |\n",
        "| :------------------- | ---------------: |\n",
        "| Total Parameters | 11,422  |\n",
        "| Best Testing Accuracy | 99.5 |\n",
        "| Best Validation Accuracy | 99.01 |\n",
        "| Batch Size | 32 |\n",
        "| Epochs | 20 |\n",
        "| Overfitting | No effect |\n",
        "| Optimizer | Adam |\n",
        "| 3 Improvements over previous layer | Decreased the kernel parameterns in all the layers |\n",
        "\n",
        "\n",
        "\n",
        "\n",
        "                    "
      ]
    },
    {
      "cell_type": "code",
      "metadata": {
        "id": "osKqT73Q9JJB",
        "colab_type": "code",
        "outputId": "6b908601-27a5-40d6-a773-2fdeabc2713b",
        "colab": {
          "base_uri": "https://localhost:8080/",
          "height": 263
        }
      },
      "source": [
        "from keras.layers import Activation\n",
        "model = Sequential()\n",
        "\n",
        "                                                     # Output channel dimensions | Receptive field\n",
        "model.add(Convolution2D(16, 3, 3, activation='relu', input_shape=(28,28,1))) # 26 | 3x3\n",
        "\n",
        "model.add(Convolution2D(16, 3, 3, activation='relu')) # 24 | 5x5\n",
        "\n",
        "model.add(MaxPooling2D(pool_size=(2, 2))) # 12 | 10x10\n",
        "model.add(Convolution2D(10, 1, 1, activation='relu')) # 12\n",
        "\n",
        "model.add(Convolution2D(16, 3, 3, activation='relu')) #  10 | 12x12\n",
        "model.add(Convolution2D(16, 3, 3, activation='relu')) #   8 | 14x14\n",
        "model.add(Convolution2D(16, 3, 3, activation='relu')) #   6 | 16x16\n",
        "model.add(Convolution2D(16, 3, 3, activation='relu')) #   4 | 18x18\n",
        "\n",
        "\n",
        "model.add(Convolution2D(10, 1, activation='relu')) #4\n",
        "model.add(Convolution2D(10, 4))\n",
        "model.add(Flatten())\n",
        "model.add(Activation('softmax'))"
      ],
      "execution_count": 23,
      "outputs": [
        {
          "output_type": "stream",
          "text": [
            "/usr/local/lib/python3.6/dist-packages/ipykernel_launcher.py:5: UserWarning: Update your `Conv2D` call to the Keras 2 API: `Conv2D(16, (3, 3), activation=\"relu\", input_shape=(28, 28, 1...)`\n",
            "  \"\"\"\n",
            "/usr/local/lib/python3.6/dist-packages/ipykernel_launcher.py:7: UserWarning: Update your `Conv2D` call to the Keras 2 API: `Conv2D(16, (3, 3), activation=\"relu\")`\n",
            "  import sys\n",
            "/usr/local/lib/python3.6/dist-packages/ipykernel_launcher.py:10: UserWarning: Update your `Conv2D` call to the Keras 2 API: `Conv2D(10, (1, 1), activation=\"relu\")`\n",
            "  # Remove the CWD from sys.path while we load stuff.\n",
            "/usr/local/lib/python3.6/dist-packages/ipykernel_launcher.py:12: UserWarning: Update your `Conv2D` call to the Keras 2 API: `Conv2D(16, (3, 3), activation=\"relu\")`\n",
            "  if sys.path[0] == '':\n",
            "/usr/local/lib/python3.6/dist-packages/ipykernel_launcher.py:13: UserWarning: Update your `Conv2D` call to the Keras 2 API: `Conv2D(16, (3, 3), activation=\"relu\")`\n",
            "  del sys.path[0]\n",
            "/usr/local/lib/python3.6/dist-packages/ipykernel_launcher.py:14: UserWarning: Update your `Conv2D` call to the Keras 2 API: `Conv2D(16, (3, 3), activation=\"relu\")`\n",
            "  \n",
            "/usr/local/lib/python3.6/dist-packages/ipykernel_launcher.py:15: UserWarning: Update your `Conv2D` call to the Keras 2 API: `Conv2D(16, (3, 3), activation=\"relu\")`\n",
            "  from ipykernel import kernelapp as app\n"
          ],
          "name": "stderr"
        }
      ]
    },
    {
      "cell_type": "code",
      "metadata": {
        "id": "TzdAYg1k9K7Z",
        "colab_type": "code",
        "outputId": "99466990-5f7f-4b5e-e795-2ac82413e62c",
        "colab": {
          "base_uri": "https://localhost:8080/",
          "height": 562
        }
      },
      "source": [
        "model.summary()"
      ],
      "execution_count": 24,
      "outputs": [
        {
          "output_type": "stream",
          "text": [
            "_________________________________________________________________\n",
            "Layer (type)                 Output Shape              Param #   \n",
            "=================================================================\n",
            "conv2d_10 (Conv2D)           (None, 26, 26, 16)        160       \n",
            "_________________________________________________________________\n",
            "conv2d_11 (Conv2D)           (None, 24, 24, 16)        2320      \n",
            "_________________________________________________________________\n",
            "max_pooling2d_2 (MaxPooling2 (None, 12, 12, 16)        0         \n",
            "_________________________________________________________________\n",
            "conv2d_12 (Conv2D)           (None, 12, 12, 10)        170       \n",
            "_________________________________________________________________\n",
            "conv2d_13 (Conv2D)           (None, 10, 10, 16)        1456      \n",
            "_________________________________________________________________\n",
            "conv2d_14 (Conv2D)           (None, 8, 8, 16)          2320      \n",
            "_________________________________________________________________\n",
            "conv2d_15 (Conv2D)           (None, 6, 6, 16)          2320      \n",
            "_________________________________________________________________\n",
            "conv2d_16 (Conv2D)           (None, 4, 4, 16)          2320      \n",
            "_________________________________________________________________\n",
            "conv2d_17 (Conv2D)           (None, 4, 4, 10)          170       \n",
            "_________________________________________________________________\n",
            "conv2d_18 (Conv2D)           (None, 1, 1, 10)          1610      \n",
            "_________________________________________________________________\n",
            "flatten_2 (Flatten)          (None, 10)                0         \n",
            "_________________________________________________________________\n",
            "activation_2 (Activation)    (None, 10)                0         \n",
            "=================================================================\n",
            "Total params: 12,846\n",
            "Trainable params: 12,846\n",
            "Non-trainable params: 0\n",
            "_________________________________________________________________\n"
          ],
          "name": "stdout"
        }
      ]
    },
    {
      "cell_type": "markdown",
      "metadata": {
        "id": "AsXLiI6BAacS",
        "colab_type": "text"
      },
      "source": [
        "- **Using stochastic gradient descent**"
      ]
    },
    {
      "cell_type": "code",
      "metadata": {
        "id": "Zp6SuGrL9M3h",
        "colab_type": "code",
        "colab": {}
      },
      "source": [
        "model.compile(loss='categorical_crossentropy',\n",
        "             optimizer='adam',\n",
        "             metrics=['accuracy'])"
      ],
      "execution_count": 0,
      "outputs": []
    },
    {
      "cell_type": "markdown",
      "metadata": {
        "id": "HWJWlRu1ASZ_",
        "colab_type": "text"
      },
      "source": [
        "\n",
        "- **Training the model with batch size of 32 images and epoch = 20**"
      ]
    },
    {
      "cell_type": "code",
      "metadata": {
        "id": "4xWoKhPY9Of5",
        "colab_type": "code",
        "outputId": "07e2a731-0450-451d-d2c0-a11a1c051380",
        "colab": {
          "base_uri": "https://localhost:8080/",
          "height": 756
        }
      },
      "source": [
        "model.fit(X_train, Y_train, batch_size=32, \n",
        "          epochs=20, verbose=1, \n",
        "          validation_data=(X_test, Y_test), )"
      ],
      "execution_count": 26,
      "outputs": [
        {
          "output_type": "stream",
          "text": [
            "Train on 60000 samples, validate on 10000 samples\n",
            "Epoch 1/20\n",
            "60000/60000 [==============================] - 30s 492us/step - loss: 0.2714 - acc: 0.9146 - val_loss: 0.0984 - val_acc: 0.9703\n",
            "Epoch 2/20\n",
            "60000/60000 [==============================] - 40s 675us/step - loss: 0.0903 - acc: 0.9724 - val_loss: 0.0563 - val_acc: 0.9826\n",
            "Epoch 3/20\n",
            "60000/60000 [==============================] - 40s 660us/step - loss: 0.0649 - acc: 0.9805 - val_loss: 0.0464 - val_acc: 0.9858\n",
            "Epoch 4/20\n",
            "60000/60000 [==============================] - 42s 706us/step - loss: 0.0540 - acc: 0.9833 - val_loss: 0.0452 - val_acc: 0.9841\n",
            "Epoch 5/20\n",
            "60000/60000 [==============================] - 39s 647us/step - loss: 0.0460 - acc: 0.9856 - val_loss: 0.0469 - val_acc: 0.9856\n",
            "Epoch 6/20\n",
            "60000/60000 [==============================] - 40s 670us/step - loss: 0.0407 - acc: 0.9875 - val_loss: 0.0508 - val_acc: 0.9858\n",
            "Epoch 7/20\n",
            "60000/60000 [==============================] - 39s 646us/step - loss: 0.0372 - acc: 0.9886 - val_loss: 0.0386 - val_acc: 0.9875\n",
            "Epoch 8/20\n",
            "60000/60000 [==============================] - 27s 458us/step - loss: 0.0327 - acc: 0.9898 - val_loss: 0.0358 - val_acc: 0.9888\n",
            "Epoch 9/20\n",
            "60000/60000 [==============================] - 25s 422us/step - loss: 0.0285 - acc: 0.9912 - val_loss: 0.0391 - val_acc: 0.9887\n",
            "Epoch 10/20\n",
            "60000/60000 [==============================] - 14s 240us/step - loss: 0.0272 - acc: 0.9914 - val_loss: 0.0380 - val_acc: 0.9884\n",
            "Epoch 11/20\n",
            "60000/60000 [==============================] - 13s 209us/step - loss: 0.0247 - acc: 0.9923 - val_loss: 0.0401 - val_acc: 0.9875\n",
            "Epoch 12/20\n",
            "60000/60000 [==============================] - 13s 208us/step - loss: 0.0229 - acc: 0.9927 - val_loss: 0.0417 - val_acc: 0.9882\n",
            "Epoch 13/20\n",
            "60000/60000 [==============================] - 13s 209us/step - loss: 0.0227 - acc: 0.9928 - val_loss: 0.0386 - val_acc: 0.9885\n",
            "Epoch 14/20\n",
            "60000/60000 [==============================] - 14s 229us/step - loss: 0.0201 - acc: 0.9935 - val_loss: 0.0404 - val_acc: 0.9890\n",
            "Epoch 15/20\n",
            "60000/60000 [==============================] - 13s 212us/step - loss: 0.0188 - acc: 0.9938 - val_loss: 0.0355 - val_acc: 0.9893\n",
            "Epoch 16/20\n",
            "60000/60000 [==============================] - 13s 209us/step - loss: 0.0184 - acc: 0.9942 - val_loss: 0.0424 - val_acc: 0.9883\n",
            "Epoch 17/20\n",
            "60000/60000 [==============================] - 12s 208us/step - loss: 0.0166 - acc: 0.9942 - val_loss: 0.0379 - val_acc: 0.9901\n",
            "Epoch 18/20\n",
            "60000/60000 [==============================] - 14s 240us/step - loss: 0.0152 - acc: 0.9950 - val_loss: 0.0473 - val_acc: 0.9888\n",
            "Epoch 19/20\n",
            "60000/60000 [==============================] - 12s 208us/step - loss: 0.0156 - acc: 0.9947 - val_loss: 0.0549 - val_acc: 0.9868\n",
            "Epoch 20/20\n",
            "60000/60000 [==============================] - 13s 222us/step - loss: 0.0150 - acc: 0.9950 - val_loss: 0.0464 - val_acc: 0.9885\n"
          ],
          "name": "stdout"
        },
        {
          "output_type": "execute_result",
          "data": {
            "text/plain": [
              "<keras.callbacks.History at 0x7f8ac8277da0>"
            ]
          },
          "metadata": {
            "tags": []
          },
          "execution_count": 26
        }
      ]
    },
    {
      "cell_type": "code",
      "metadata": {
        "id": "AtsH-lLk-eLb",
        "colab_type": "code",
        "colab": {}
      },
      "source": [
        "score = model.evaluate(X_test, Y_test, verbose=0)"
      ],
      "execution_count": 0,
      "outputs": []
    },
    {
      "cell_type": "code",
      "metadata": {
        "id": "mkX8JMv79q9r",
        "colab_type": "code",
        "outputId": "5113f7a5-9e3c-406f-f2fb-05a191187137",
        "colab": {
          "base_uri": "https://localhost:8080/",
          "height": 34
        }
      },
      "source": [
        "print(score)"
      ],
      "execution_count": 28,
      "outputs": [
        {
          "output_type": "stream",
          "text": [
            "[0.04636300708114886, 0.9885]\n"
          ],
          "name": "stdout"
        }
      ]
    },
    {
      "cell_type": "markdown",
      "metadata": {
        "id": "BgdkBzSlBh-S",
        "colab_type": "text"
      },
      "source": [
        "- **Getting the prediction on first 9 images of test set from the trained model**"
      ]
    },
    {
      "cell_type": "code",
      "metadata": {
        "id": "OCWoJkwE9suh",
        "colab_type": "code",
        "colab": {}
      },
      "source": [
        "y_pred = model.predict(X_test)"
      ],
      "execution_count": 0,
      "outputs": []
    },
    {
      "cell_type": "code",
      "metadata": {
        "id": "Ym7iCFBm9uBs",
        "colab_type": "code",
        "outputId": "a4e3c5d4-3504-4504-8dc0-6fc4a0beae2b",
        "colab": {
          "base_uri": "https://localhost:8080/",
          "height": 351
        }
      },
      "source": [
        "print(y_pred[:9])\n",
        "print(y_test[:9])"
      ],
      "execution_count": 30,
      "outputs": [
        {
          "output_type": "stream",
          "text": [
            "[[1.8827516e-18 2.0576184e-12 8.7028308e-11 1.0351948e-07 5.6666677e-12\n",
            "  6.5159722e-10 3.7883392e-23 9.9999964e-01 3.0899356e-12 2.6394596e-07]\n",
            " [9.0745249e-15 2.7068958e-10 1.0000000e+00 6.1209576e-14 1.6282976e-12\n",
            "  5.9654274e-14 1.5966216e-11 5.4334669e-15 5.6166335e-12 1.8996276e-13]\n",
            " [1.6007245e-13 9.9999440e-01 7.9997270e-10 4.1944781e-12 5.2069477e-06\n",
            "  3.9309608e-10 5.3726841e-12 2.0637541e-09 3.1747862e-07 6.5255432e-09]\n",
            " [9.9998415e-01 7.9445294e-13 9.2423036e-10 3.3762382e-11 2.9436937e-12\n",
            "  5.7398541e-08 1.5747695e-05 2.5436530e-14 3.8706710e-10 5.1222853e-09]\n",
            " [2.2046371e-20 1.4116072e-14 1.7991230e-15 5.5108517e-21 1.0000000e+00\n",
            "  3.6850651e-20 9.6352819e-13 1.1200206e-13 8.7177681e-15 7.6055976e-12]\n",
            " [9.8903192e-15 9.9998772e-01 5.7620561e-11 1.2987154e-13 1.1908982e-05\n",
            "  4.5854002e-12 2.5019028e-13 1.9713091e-09 3.0178859e-07 1.3605568e-09]\n",
            " [5.6284253e-21 6.3439002e-12 1.5246101e-13 5.5824665e-16 1.0000000e+00\n",
            "  4.7980181e-15 6.5689163e-19 1.1346658e-09 1.5834762e-09 1.0492622e-09]\n",
            " [1.4024664e-18 1.1716308e-17 1.5586634e-11 1.9983806e-11 5.3862376e-08\n",
            "  1.8521074e-10 3.4618627e-21 1.5934105e-09 5.3783789e-10 1.0000000e+00]\n",
            " [7.6661889e-14 7.0671247e-11 6.1548585e-14 4.4327640e-14 2.2680658e-15\n",
            "  7.0474535e-01 9.5256336e-02 2.0201868e-14 1.9999832e-01 3.1818151e-10]]\n",
            "[7 2 1 0 4 1 4 9 5]\n"
          ],
          "name": "stdout"
        }
      ]
    }
  ]
}